{
 "cells": [
  {
   "cell_type": "code",
   "execution_count": null,
   "metadata": {},
   "outputs": [],
   "source": [
    "import numpy as np\n",
    "from sklearn import metrics\n",
    "import torch.nn as nn\n",
    "import torch\n",
    "import torch.nn.functional as F\n",
    "from torch.utils.data import DataLoader\n",
    "from torch.utils.data.dataset import Dataset\n",
    "from torch.utils.tensorboard import SummaryWriter\n",
    "from torchvision import models, datasets\n",
    "import torchvision.transforms as transforms\n",
    "from tqdm.notebook import trange, tqdm\n",
    "import matplotlib.pyplot as plt"
   ]
  },
  {
   "cell_type": "code",
   "execution_count": null,
   "metadata": {},
   "outputs": [],
   "source": [
    "print(f\"Is GPU available? {torch.cuda.is_available()}\")\n",
    "print(f\"Number of available devices: {torch.cuda.device_count()}\")\n",
    "print(f\"Index of current device: {torch.cuda.current_device()}\")\n",
    "print(f\"Device name: {torch.cuda.get_device_name(torch.cuda.current_device())}\")"
   ]
  },
  {
   "cell_type": "code",
   "execution_count": null,
   "metadata": {},
   "outputs": [],
   "source": [
    "device = torch.device('cuda:0' if torch.cuda.is_available() else 'cpu')\n",
    "# writer = SummaryWriter('runs/experiment_55')\n",
    "\n",
    "BATCH_SIZE = 512\n",
    "N_EPOCHS = 10\n",
    "LEARNING_RATE = 0.001"
   ]
  },
  {
   "cell_type": "markdown",
   "metadata": {},
   "source": [
    "# Nacitanie dat"
   ]
  },
  {
   "cell_type": "code",
   "execution_count": null,
   "metadata": {},
   "outputs": [],
   "source": [
    "from scipy.io import loadmat\n",
    "from sklearn.model_selection import train_test_split\n",
    "\n",
    "class notMNIST(Dataset):\n",
    "    def __init__(self, data, labels):\n",
    "        self.images = data\n",
    "        self.labels = labels\n",
    "\n",
    "        self.transformation = transforms.Compose([\n",
    "                                                  \n",
    "            transforms.ToTensor(),\n",
    "            transforms.ConvertImageDtype(dtype=torch.float32),\n",
    "        ])\n",
    "\n",
    "    def __len__(self):\n",
    "        return len(self.labels)\n",
    "\n",
    "    def __getitem__(self, index):\n",
    "        img = self.images[index]\n",
    "        label = self.labels[index]\n",
    "        img_tensor = self.transformation(img)\n",
    "        y_tensor = torch.tensor(label, dtype=torch.long)\n",
    "        return img_tensor.view(1, 28, 28), y_tensor\n",
    "\n",
    "\n",
    "data = loadmat('notMNIST_small.mat')\n",
    "print(data.keys())\n",
    "\n",
    "images = data['images']\n",
    "labels = data['labels']\n",
    "\n",
    "print(images.shape)\n",
    "images = [images[:, :, i] for i in range(0, images.shape[2])]\n",
    "images = np.asarray(images)\n",
    "print(images.shape)\n",
    "x_train, x_test, y_train, y_test = train_test_split(images, labels, test_size=0.2, shuffle=True)\n",
    "\n",
    "train_dataset = notMNIST(x_train, y_train)\n",
    "test_dataset = notMNIST(x_test, y_test)\n",
    "\n",
    "trainloader = DataLoader(dataset=train_dataset, batch_size=BATCH_SIZE, shuffle=True)\n",
    "testloader = DataLoader(dataset=test_dataset, batch_size=BATCH_SIZE, shuffle=False)"
   ]
  },
  {
   "cell_type": "markdown",
   "metadata": {},
   "source": [
    "# MLP Siet"
   ]
  },
  {
   "cell_type": "code",
   "execution_count": null,
   "metadata": {},
   "outputs": [],
   "source": [
    "class MLP(torch.nn.Module):\n",
    "    def __init__(self):\n",
    "        super(MLP, self).__init__()\n",
    "        self.fc_layers = nn.Sequential(\n",
    "            nn.Linear(28*28, 128),\n",
    "            nn.ReLU(),\n",
    "            nn.Linear(128, 128),\n",
    "            nn.ReLU(),\n",
    "            nn.Linear(128,10),\n",
    "            nn.Softmax()\n",
    "        )\n",
    "\n",
    "    def forward(self, x):\n",
    "        out = x.view(x.shape[0], -1)\n",
    "        out = self.fc_layers(out)\n",
    "        return out\n"
   ]
  },
  {
   "cell_type": "markdown",
   "metadata": {},
   "source": [
    "# CNN Siet"
   ]
  },
  {
   "cell_type": "code",
   "execution_count": null,
   "metadata": {},
   "outputs": [],
   "source": [
    "class CustomCNN(torch.nn.Module):\n",
    "    def __init__(self):\n",
    "        super(CustomCNN, self).__init__()\n",
    "        self.conv1 = nn.Sequential(\n",
    "            nn.Conv2d(1, 10, kernel_size=5),\n",
    "            nn.ReLU(),\n",
    "            nn.BatchNorm2d(10),\n",
    "            nn.MaxPool2d(kernel_size=2, stride=2),\n",
    "        )\n",
    "        self.conv2 = nn.Sequential(\n",
    "            nn.Conv2d(10, 20, kernel_size=5),\n",
    "            nn.ReLU(),\n",
    "            nn.BatchNorm2d(20),\n",
    "            nn.MaxPool2d(kernel_size=2, stride=2),\n",
    "        )\n",
    "\n",
    "        self.fc_layers = nn.Sequential(\n",
    "            nn.Linear(320, 100),\n",
    "            nn.ReLU(),\n",
    "            nn.Dropout(0.5),\n",
    "            nn.Linear(100, 10),\n",
    "            nn.Softmax()\n",
    "        )\n",
    "\n",
    "    def forward(self, x):\n",
    "        out = self.conv1(x)\n",
    "        out = self.conv2(out)\n",
    "        out = out.view(x.shape[0], -1)\n",
    "        out = self.fc_layers(out)\n",
    "        return out\n",
    "    \n",
    "\n"
   ]
  },
  {
   "cell_type": "code",
   "execution_count": null,
   "metadata": {},
   "outputs": [],
   "source": [
    "class SimpleCNN(torch.nn.Module):\n",
    "    def __init__(self):\n",
    "        super(SimpleCNN, self).__init__\n",
    "        "
   ]
  },
  {
   "cell_type": "markdown",
   "metadata": {},
   "source": [
    "# Resnet18"
   ]
  },
  {
   "cell_type": "code",
   "execution_count": null,
   "metadata": {},
   "outputs": [],
   "source": [
    "model = models.resnet18(pretrained=False)\n",
    "model.conv1 = nn.Conv2d(1, 64, kernel_size=7, stride=2, padding=3, bias=False)\n",
    "model.fc.out_features = 10\n",
    "print(model.named_children)\n",
    "\n",
    "# count = 0\n",
    "# freeze_first_n_layers = 4\n",
    "# # freeze backbone layers\n",
    "# for param in model.children(): \n",
    "#     if count < freeze_first_n_layers and len(list(param.parameters())) > 0: # freezing first 3 layers\n",
    "#         print(param)\n",
    "#         param.requires_grad_(False)\n",
    "#         count +=1      \n"
   ]
  },
  {
   "cell_type": "markdown",
   "metadata": {},
   "source": [
    "# Trenovanie"
   ]
  },
  {
   "cell_type": "code",
   "execution_count": null,
   "metadata": {},
   "outputs": [],
   "source": [
    "model = CustomCNN()\n",
    "criterion = torch.nn.CrossEntropyLoss()\n",
    "optimizer = torch.optim.Adam(model.parameters(), lr=LEARNING_RATE)\n",
    "\n",
    "model = model.to(device)\n",
    "\n",
    "model.train()\n",
    "\n",
    "acc_history = []\n",
    "loss_history = []\n",
    "final_labels = []\n",
    "final_predicted = []\n",
    "\n",
    "for epoch in trange(1, N_EPOCHS + 1, desc=\"1st loop\"):\n",
    "    epoch_loss = 0\n",
    "    n_batches = len(train_dataset) // BATCH_SIZE\n",
    "    correct = 0\n",
    "    total = 0\n",
    "    accuracy_train = 0\n",
    "\n",
    "    for step, (images, labels) in enumerate(tqdm(trainloader, desc=\"Epoch {}/{}\".format(epoch, N_EPOCHS))):\n",
    "\n",
    "        images = images.to(device)\n",
    "        labels = labels.to(device)\n",
    "        \n",
    "        # Dopredne sirenie, \n",
    "        # ziskame pravdepodobnosti tried tym, ze posleme do modelu vstupy\n",
    "        outputs = model(images)\n",
    "\n",
    "        # Vypocitame chybu algoritmu       \n",
    "        loss = criterion(outputs, labels)\n",
    "        \n",
    "        # Uspesnost algoritmu\n",
    "        _, predicted = torch.max(outputs.data, 1)\n",
    "        total += labels.size(0)\n",
    "        correct += (predicted == labels).sum().item()\n",
    "        accuracy_train = correct / total\n",
    "        epoch_loss += loss.item() \n",
    "        \n",
    "        # Je vhodne zavolat zero_grad() pred zavolanim spatneho sirenia \n",
    "        # pre vynulovanie gradientov z predosleho volania loss.backward()\n",
    "        optimizer.zero_grad()\n",
    "\n",
    "        # Spatne sirenie chyby, vypocitaju sa gradienty\n",
    "        loss.backward()\n",
    "        \n",
    "        # Aktualizacia vah pomocou optimalizatora\n",
    "        optimizer.step()\n",
    "\n",
    "        if step % n_batches == 0 and step != 0:\n",
    "            epoch_loss = epoch_loss / n_batches\n",
    "\n",
    "            # writer.add_scalar(\n",
    "            #     'training loss',\n",
    "            #     epoch_loss,\n",
    "            #     epoch\n",
    "            # )\n",
    "\n",
    "            acc_history.append(accuracy_train)\n",
    "            loss_history.append(epoch_loss)\n",
    "            print(\"Epoch {}, Loss {:.6f}, Accuracy {:.2f}% \".format(epoch, epoch_loss, accuracy_train * 100))\n",
    "            epoch_loss = 0\n",
    "\n",
    "            #print(model.layer1[0].conv1.weight[0][0])\n",
    "            #print(model.layer2[0].conv1.weight[0][0])\n",
    "            #print(model.layer3[0].conv1.weight[0][0])\n",
    "\n",
    "        final_predicted += predicted.tolist()\n",
    "        final_labels += labels.tolist()\n",
    "        torch.cuda.empty_cache()\n",
    "\n",
    "\n",
    "\n",
    "# writer.add_hparams(\n",
    "#     {\n",
    "#     'optimizer': optimizer.__class__.__name__,\n",
    "#     'lr': LEARNING_RATE, \n",
    "#     'batch_size': BATCH_SIZE\n",
    "#     },\n",
    "#     {\n",
    "#     'hparam/train/accuracy': accuracy_train,\n",
    "#     }\n",
    "# )\n",
    "# writer.close()"
   ]
  },
  {
   "cell_type": "markdown",
   "metadata": {},
   "source": [
    "# Ukladanie modelu"
   ]
  },
  {
   "cell_type": "code",
   "execution_count": null,
   "metadata": {},
   "outputs": [],
   "source": [
    "PATH = \"./model.pt\"\n",
    "torch.save(model.state_dict(), PATH)"
   ]
  },
  {
   "cell_type": "markdown",
   "metadata": {},
   "source": [
    "# Nacitanie modelu"
   ]
  },
  {
   "cell_type": "code",
   "execution_count": null,
   "metadata": {},
   "outputs": [],
   "source": [
    "model = None\n",
    "model = MLP()\n",
    "model.load_state_dict(torch.load(PATH))\n",
    "print(model)"
   ]
  },
  {
   "cell_type": "markdown",
   "metadata": {},
   "source": [
    "# Priebeh trenovania"
   ]
  },
  {
   "cell_type": "code",
   "execution_count": null,
   "metadata": {},
   "outputs": [],
   "source": [
    "plt.plot(np.array(range(1, N_EPOCHS + 1)), loss_history)\n",
    "plt.xlabel('Epoch')\n",
    "plt.ylabel('Loss')\n",
    "plt.show()\n",
    "\n",
    "plt.plot(np.array(range(1, N_EPOCHS + 1)), acc_history)\n",
    "plt.xlabel('Epoch')\n",
    "plt.ylabel('Accuracy')\n",
    "plt.show()"
   ]
  },
  {
   "cell_type": "markdown",
   "metadata": {},
   "source": [
    "# Testovanie modelu"
   ]
  },
  {
   "cell_type": "code",
   "execution_count": null,
   "metadata": {},
   "outputs": [],
   "source": [
    "model.eval()  # activate evaulation mode, some layers behave differently\n",
    "use_cuda = torch.cuda.is_available()\n",
    "if use_cuda:\n",
    "    model.cuda()\n",
    "total = 0\n",
    "correct = 0\n",
    "final_labels = []\n",
    "final_predicted = []\n",
    "for inputs, labels in tqdm(iter(testloader), desc=\"Full forward pass\", total=len(testloader)):\n",
    "    if use_cuda:\n",
    "        inputs = inputs.cuda()\n",
    "        labels = labels.cuda()\n",
    "    with torch.no_grad():\n",
    "        outputs_batch = model(inputs)\n",
    "\n",
    "    _, predicted = torch.max(outputs_batch.data, 1)\n",
    "    total += labels.size(0)\n",
    "    correct += (predicted == labels).sum().item()\n",
    "\n",
    "    final_predicted += predicted.tolist()\n",
    "    final_labels += labels.tolist()\n",
    "\n",
    "print('Accuracy of the network on the test images: %0.2f %%' % (100 * correct / total))"
   ]
  },
  {
   "cell_type": "markdown",
   "metadata": {},
   "source": [
    "# Zobrazenie filtrov"
   ]
  },
  {
   "cell_type": "code",
   "execution_count": null,
   "metadata": {},
   "outputs": [],
   "source": [
    "from torchvision import utils\n",
    "\n",
    "def visTensor(tensor, ch=0, allkernels=False, nrow=8, padding=1): \n",
    "  n,c,w,h = tensor.shape\n",
    "\n",
    "  if allkernels: tensor = tensor.view(n*c, -1, w, h)\n",
    "  elif c != 3: tensor = tensor[:,ch,:,:].unsqueeze(dim=1)\n",
    "\n",
    "  rows = np.min((tensor.shape[0] // nrow + 1, 64))    \n",
    "  grid = utils.make_grid(tensor, nrow=nrow, normalize=True, padding=padding)\n",
    "  plt.figure( figsize=(nrow,rows) )\n",
    "  plt.imshow(grid.numpy().transpose((1, 2, 0)))\n",
    "\n",
    "\n",
    "filter = model.layer1[0].conv1.weight.data.clone().cpu()\n",
    "# print(filter)\n",
    "visTensor(filter, ch=0, allkernels=False)"
   ]
  },
  {
   "cell_type": "code",
   "execution_count": null,
   "metadata": {},
   "outputs": [],
   "source": [
    "from pretty_confusion_matrix import pp_matrix_from_data\n",
    "\n",
    "y_test = final_labels\n",
    "predic =  final_predicted\n",
    "\n",
    "labels = [i for i in range(10)]\n",
    "\n",
    "pp_matrix_from_data(y_test, predic, columns=labels, cmap=\"gnuplot\")"
   ]
  },
  {
   "cell_type": "markdown",
   "metadata": {},
   "source": [
    "# Vizualizacia vystupu siete"
   ]
  },
  {
   "cell_type": "code",
   "execution_count": null,
   "metadata": {},
   "outputs": [],
   "source": [
    "sel = np.random.randint(0,len(y_test))\n",
    "x = x_test[sel,:,:]\n",
    "\n",
    "plt.imshow(x, cmap='gray')\n",
    "plt.show()\n",
    "\n",
    "model_in = torch.tensor(x, dtype=torch.float32).view(1,1,28,28).to(device)\n",
    "\n",
    "with torch.no_grad():\n",
    "    output = model(model_in)\n",
    "\n",
    "_, predicted = torch.max(output.data, 1)\n",
    "\n",
    "\n",
    "print(f\"Predicted label: {predicted.cpu().numpy()} | True label: {y_test[sel]}\")"
   ]
  },
  {
   "cell_type": "markdown",
   "metadata": {},
   "source": []
  }
 ],
 "metadata": {
  "kernelspec": {
   "display_name": "torch",
   "language": "python",
   "name": "python3"
  },
  "language_info": {
   "codemirror_mode": {
    "name": "ipython",
    "version": 3
   },
   "file_extension": ".py",
   "mimetype": "text/x-python",
   "name": "python",
   "nbconvert_exporter": "python",
   "pygments_lexer": "ipython3",
   "version": "3.9.17"
  },
  "orig_nbformat": 4
 },
 "nbformat": 4,
 "nbformat_minor": 2
}
