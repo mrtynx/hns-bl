{
 "cells": [
  {
   "cell_type": "markdown",
   "metadata": {},
   "source": [
    "#### **Projekt1**"
   ]
  },
  {
   "cell_type": "markdown",
   "metadata": {},
   "source": [
    "Pre celkovo najlepšie natrénovanú CNN, zobrazte vybrané filtre v 1. a 2. konvolučnej vrstve, zobrazte výslednú mapu príznakov pre vybraný vstupný obraz. \n"
   ]
  },
  {
   "cell_type": "code",
   "execution_count": null,
   "metadata": {},
   "outputs": [],
   "source": [
    "import pickle\n",
    "import numpy as np\n",
    "import torch\n",
    "#from pretty_confusion_matrix import pp_matrix_from_data\n",
    "from models_architecture import *\n",
    "from matplotlib import pyplot as plt\n",
    "from torchvision import utils\n",
    "from dataset_architecture import get_architectural_dataset\n",
    "from torchvision import transforms"
   ]
  },
  {
   "cell_type": "markdown",
   "metadata": {},
   "source": [
    "Best network"
   ]
  },
  {
   "cell_type": "code",
   "execution_count": null,
   "metadata": {},
   "outputs": [],
   "source": [
    "#modify accordingly\n",
    "model = resnet18_architecture()\n",
    "name = model.__class__.__name__\n",
    "run='1'\n",
    "\n",
    "path = 'trained_models'\n",
    "\n",
    "\n",
    "model.load_state_dict(torch.load(f\"{path}/{name}/{run}/model.pt\"))"
   ]
  },
  {
   "cell_type": "code",
   "execution_count": null,
   "metadata": {},
   "outputs": [],
   "source": [
    "\n",
    "def visTensor(tensor, ch=0, allkernels=False, nrow=8, padding=1,title=\"Convolution layer filters\"):\n",
    "    n, c, w, h = tensor.shape\n",
    "\n",
    "    if allkernels:\n",
    "        tensor = tensor.view(n * c, -1, w, h)\n",
    "    elif c != 3:\n",
    "        tensor = tensor[:, ch, :, :].unsqueeze(dim=1)\n",
    "\n",
    "    rows = np.min((tensor.shape[0] // nrow + 1, 64))\n",
    "    grid = utils.make_grid(tensor, nrow=nrow, normalize=True, padding=padding)\n",
    "    plt.figure(figsize=(nrow, rows))\n",
    "    plt.imshow(grid.numpy().transpose((1, 2, 0)))\n",
    "    plt.title(title)\n",
    "    # plt.show()"
   ]
  },
  {
   "cell_type": "markdown",
   "metadata": {},
   "source": [
    "Filters of convolutional layers 1 and 2"
   ]
  },
  {
   "cell_type": "code",
   "execution_count": null,
   "metadata": {},
   "outputs": [],
   "source": [
    "print(model)\n",
    "\n",
    "print(\"Displaying layer 1\")\n",
    "filter_1 = model.conv1.weight.data.clone().cpu()\n",
    "%matplotlib qt\n",
    "visTensor(filter_1, ch=0, allkernels=False, title=\"Convolution layer 1 filters\")\n",
    "\n",
    "print(\"Displaying layer 2\")\n",
    "filter_2 = model.layer1[0].conv1.weight.data.clone().cpu()\n",
    "visTensor(filter_2, ch=0, allkernels=False, title=\"Convolution layer 2 filters\")\n",
    "\n",
    "\n",
    "#filter = cnn2.conv1[0].weight.data.clone().cpu()\n",
    "#visTensor(filter, ch=0, allkernels=False)"
   ]
  },
  {
   "cell_type": "markdown",
   "metadata": {},
   "source": [
    "Displaying feature maps"
   ]
  },
  {
   "cell_type": "code",
   "execution_count": null,
   "metadata": {},
   "outputs": [],
   "source": [
    "transform = transforms.Compose(\n",
    "    [\n",
    "        transforms.Resize(256, transforms.InterpolationMode.BILINEAR),\n",
    "        transforms.CenterCrop(224),\n",
    "        transforms.ToTensor(),\n",
    "        transforms.ConvertImageDtype(dtype=torch.float32),\n",
    "        transforms.Normalize((0.485, 0.456, 0.406), (0.229, 0.224, 0.225)),\n",
    "    ]\n",
    ")\n",
    "\n",
    "trainloader, _ = get_architectural_dataset(\n",
    "    root_path=\"architectural-styles-dataset/\",\n",
    "    #root_path=\"C:\\\\Repositories\\\\hns\\\\Dataset_Architektura\\\\architectural-styles-dataset\", \n",
    "    transform=transform,\n",
    "    batch_sz=28,\n",
    "    test=0.1,\n",
    ")"
   ]
  },
  {
   "cell_type": "code",
   "execution_count": null,
   "metadata": {},
   "outputs": [],
   "source": [
    "#extracting one sample\n",
    "for data, target in trainloader:\n",
    "    single_data = data[0]\n",
    "    single_target = target[0]\n",
    "    break"
   ]
  },
  {
   "cell_type": "code",
   "execution_count": null,
   "metadata": {},
   "outputs": [],
   "source": [
    "#showing feature map\n",
    "image = single_data.permute(1, 2, 0).numpy()\n",
    "#print (image)\n",
    "image = (image + 1) / 2.0\n",
    "image = np.clip(image, 0.0, 1.0)\n",
    "plt.imshow(image)\n",
    "\n",
    "model.eval()\n",
    "\n",
    "with torch.no_grad():\n",
    "    output = model(single_data.unsqueeze(0))\n",
    "    conv_output = model.conv1(single_data.unsqueeze(0))\n",
    "\n",
    "_, predicted = torch.max(output.data, 1)\n",
    "\n",
    "print(f\"Predicted label: {predicted.cpu().numpy()} | True label: {single_target}\")\n"
   ]
  },
  {
   "cell_type": "code",
   "execution_count": null,
   "metadata": {},
   "outputs": [],
   "source": [
    "# Squeeze the batch dimension\n",
    "conv_output = conv_output.squeeze(0)\n",
    "\n",
    "# Number of rows/columns for visualization grid\n",
    "grid_size = 8  \n",
    "\n",
    "fig, axs = plt.subplots(grid_size, grid_size, figsize=(15,15))\n",
    "\n",
    "for i in range(grid_size):\n",
    "    for j in range(grid_size):\n",
    "        # Extract the feature map\n",
    "        fmap = conv_output[i*grid_size + j].cpu().numpy()\n",
    "\n",
    "        # Display the feature map\n",
    "        axs[i, j].imshow(fmap, cmap='gray')\n",
    "        axs[i, j].axis('off')\n",
    "        \n",
    "fig.suptitle('Feature maps', fontsize=20)\n",
    "plt.show()"
   ]
  }
 ],
 "metadata": {
  "kernelspec": {
   "display_name": "Python 3",
   "language": "python",
   "name": "python3"
  },
  "language_info": {
   "codemirror_mode": {
    "name": "ipython",
    "version": 3
   },
   "file_extension": ".py",
   "mimetype": "text/x-python",
   "name": "python",
   "nbconvert_exporter": "python",
   "pygments_lexer": "ipython3",
   "version": "3.10.8"
  }
 },
 "nbformat": 4,
 "nbformat_minor": 2
}
