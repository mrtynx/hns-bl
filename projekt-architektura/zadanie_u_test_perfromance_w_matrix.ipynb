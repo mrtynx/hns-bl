{
 "cells": [
  {
   "cell_type": "markdown",
   "metadata": {},
   "source": [
    "#### **Projekt1**"
   ]
  },
  {
   "cell_type": "markdown",
   "metadata": {},
   "source": [
    "Pre každé z troch trénovaní vyčíslite úspešnosť klasifikácie na testovacích dátach. Spolu so zobrazením kontingenčnej matice pre behy, matica najlepšieho behu sa vyberie"
   ]
  },
  {
   "cell_type": "code",
   "execution_count": null,
   "metadata": {},
   "outputs": [],
   "source": [
    "import pickle\n",
    "import numpy as np\n",
    "import torch\n",
    "from pretty_confusion_matrix import pp_matrix_from_data\n",
    "from models_architecture import *\n",
    "from dataset_architecture import *\n",
    "from matplotlib import pyplot as plt\n",
    "from torchvision import utils\n",
    "from torchvision import transforms"
   ]
  },
  {
   "cell_type": "markdown",
   "metadata": {},
   "source": [
    "*Launch notebook for the respective network*"
   ]
  },
  {
   "cell_type": "markdown",
   "metadata": {},
   "source": [
    "#### Resnet18"
   ]
  },
  {
   "cell_type": "code",
   "execution_count": null,
   "metadata": {},
   "outputs": [],
   "source": [
    "model = resnet18_architecture()\n",
    "name = model.__class__.__name__\n",
    "BATCH_SIZE = 128"
   ]
  },
  {
   "cell_type": "markdown",
   "metadata": {},
   "source": [
    "#### Alexnet"
   ]
  },
  {
   "cell_type": "code",
   "execution_count": null,
   "metadata": {},
   "outputs": [],
   "source": [
    "model = alexnet_architecture()\n",
    "name = model.__class__.__name__\n",
    "BATCH_SIZE = 128"
   ]
  },
  {
   "cell_type": "markdown",
   "metadata": {},
   "source": [
    "#### Inception"
   ]
  },
  {
   "cell_type": "code",
   "execution_count": null,
   "metadata": {},
   "outputs": [],
   "source": [
    "model = inception_architecture()\n",
    "name = model.__class__.__name__\n",
    "BATCH_SIZE = 128"
   ]
  },
  {
   "cell_type": "markdown",
   "metadata": {},
   "source": [
    "#### Mobilenet"
   ]
  },
  {
   "cell_type": "code",
   "execution_count": null,
   "metadata": {},
   "outputs": [],
   "source": [
    "model = inception_architecture()\n",
    "name = model.__class__.__name__\n",
    "BATCH_SIZE = 128"
   ]
  },
  {
   "cell_type": "markdown",
   "metadata": {},
   "source": [
    "### Routines\n",
    "\n",
    "*this needs to be launched befor going further*"
   ]
  },
  {
   "cell_type": "code",
   "execution_count": null,
   "metadata": {},
   "outputs": [],
   "source": [
    "def test_model(model, testloader):\n",
    "    model.eval()  # activate evaulation mode, some layers behave differently\n",
    "    use_cuda = torch.cuda.is_available()\n",
    "    if use_cuda:\n",
    "        model.cuda()\n",
    "    total = 0\n",
    "    correct = 0\n",
    "    final_predicted = []\n",
    "    final_labels = []\n",
    "    for inputs, labels in iter(testloader):\n",
    "        if use_cuda:\n",
    "            inputs = inputs.cuda()\n",
    "            labels = labels.cuda()\n",
    "        with torch.no_grad():\n",
    "            outputs_batch = model(inputs)\n",
    "\n",
    "        _, predicted = torch.max(outputs_batch.data, 1)\n",
    "        total += labels.size(0)\n",
    "        correct += (predicted == labels).sum().item()\n",
    "\n",
    "        final_predicted += predicted.tolist()\n",
    "        final_labels += labels.tolist()\n",
    "    print(\n",
    "        \"Accuracy of the network on the test images: %0.2f %%\" % (100 * correct / total)\n",
    "    )\n",
    "\n",
    "    return final_predicted, final_labels"
   ]
  },
  {
   "cell_type": "code",
   "execution_count": null,
   "metadata": {},
   "outputs": [],
   "source": [
    "def plot_matrix(net_labels, net_predicted):\n",
    "    pp_matrix_from_data(net_labels, net_predicted, columns=net_labels, cmap=\"gnuplot\")"
   ]
  },
  {
   "cell_type": "code",
   "execution_count": null,
   "metadata": {},
   "outputs": [],
   "source": [
    "path = 'trained_models'\n",
    "TEST_SPLIT=0.2\n",
    "\n",
    "transform = transforms.Compose(\n",
    "        [\n",
    "            transforms.Resize(256, transforms.InterpolationMode.BILINEAR),\n",
    "            transforms.CenterCrop(224),\n",
    "            transforms.ToTensor(),\n",
    "            transforms.ConvertImageDtype(dtype=torch.float32),\n",
    "            transforms.Normalize((0.485, 0.456, 0.406), (0.229, 0.224, 0.225)),\n",
    "        ]\n",
    "    )\n",
    "\n",
    "_, testloader = get_architectural_dataset(\n",
    "        root_path=\"architectural-styles-dataset/\",\n",
    "        transform=transform,\n",
    "        batch_sz=BATCH_SIZE,\n",
    "        test=TEST_SPLIT,\n",
    "    )\n",
    "\n",
    "runs = [\"1\", \"2\", \"3\"]\n",
    "\n",
    "# Iterate over each string in the list\n",
    "for run in runs:\n",
    "    print(run)\n",
    "    model.load_state_dict(torch.load(f\"{path}/{name}/{run}/model.pt\"))\n",
    "    predicted,labels=test_model(model,testloader)\n",
    "    plot_matrix(predicted,labels)\n",
    "    \n",
    "\n",
    "\n"
   ]
  }
 ],
 "metadata": {
  "kernelspec": {
   "display_name": "Python 3",
   "language": "python",
   "name": "python3"
  },
  "language_info": {
   "name": "python",
   "version": "3.10.8"
  }
 },
 "nbformat": 4,
 "nbformat_minor": 2
}
