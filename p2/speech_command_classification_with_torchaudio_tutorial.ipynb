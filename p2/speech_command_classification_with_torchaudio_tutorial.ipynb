{
  "cells": [
    {
      "cell_type": "code",
      "execution_count": 3,
      "metadata": {
        "collapsed": false
      },
      "outputs": [],
      "source": [
        "%matplotlib inline"
      ]
    },
    {
      "cell_type": "markdown",
      "metadata": {},
      "source": [
        "\n",
        "# Speech Command Classification with torchaudio\n",
        "\n",
        "This tutorial will show you how to correctly format an audio dataset and\n",
        "then train/test an audio classifier network on the dataset.\n",
        "\n",
        "Colab has GPU option available. In the menu tabs, select “Runtime” then\n",
        "“Change runtime type”. In the pop-up that follows, you can choose GPU.\n",
        "After the change, your runtime should automatically restart (which means\n",
        "information from executed cells disappear).\n",
        "\n",
        "First, let’s import the common torch packages such as\n",
        "[torchaudio](https://github.com/pytorch/audio)_ that can be installed\n",
        "by following the instructions on the website.\n"
      ]
    },
    {
      "cell_type": "code",
      "execution_count": 2,
      "metadata": {
        "collapsed": false
      },
      "outputs": [],
      "source": [
        "# Uncomment the line corresponding to your \"runtime type\" to run in Google Colab\n",
        "\n",
        "# CPU:\n",
        "# !pip install pydub torch==1.7.0+cpu torchvision==0.8.1+cpu torchaudio==0.7.0 -f https://download.pytorch.org/whl/torch_stable.html\n",
        "\n",
        "# GPU:\n",
        "# !pip install pydub torch==1.7.0+cu101 torchvision==0.8.1+cu101 torchaudio==0.7.0 -f https://download.pytorch.org/whl/torch_stable.html\n",
        "\n",
        "\n",
        "#Sound I/O backend\n",
        "#!pip install PySoundFile\n",
        "#restart computer after installation to reload enviromental variables\n",
        "\n",
        "#dataset vlozenie\n",
        "#do hlavneho folderu vytvorit folder SpeechCommands\n",
        "#donho dat zo zipka datasetu folder speech_commandsv0.01\n",
        "\n",
        "import torch\n",
        "import torch.nn as nn\n",
        "import torch.nn.functional as F\n",
        "import torch.optim as optim\n",
        "import torchaudio\n",
        "import soundfile as sf\n",
        "import sys\n",
        "\n",
        "import matplotlib.pyplot as plt\n",
        "import IPython.display as ipd\n",
        "\n",
        "from tqdm import tqdm"
      ]
    },
    {
      "cell_type": "markdown",
      "metadata": {},
      "source": [
        "Let’s check if a CUDA GPU is available and select our device. Running\n",
        "the network on a GPU will greatly decrease the training/testing runtime.\n",
        "\n",
        "\n"
      ]
    },
    {
      "cell_type": "code",
      "execution_count": 4,
      "metadata": {
        "collapsed": false
      },
      "outputs": [
        {
          "name": "stdout",
          "output_type": "stream",
          "text": [
            "cuda\n"
          ]
        }
      ],
      "source": [
        "device = torch.device(\"cuda\" if torch.cuda.is_available() else \"cpu\")\n",
        "print(device)\n",
        "\n",
        "torchaudio.set_audio_backend(\"soundfile\")"
      ]
    },
    {
      "cell_type": "markdown",
      "metadata": {},
      "source": [
        "## Importing the Dataset\n",
        "\n",
        "We use torchaudio to download and represent the dataset. Here we use\n",
        "[SpeechCommands](https://arxiv.org/abs/1804.03209)_, which is a\n",
        "datasets of 35 commands spoken by different people. The dataset\n",
        "``SPEECHCOMMANDS`` is a ``torch.utils.data.Dataset`` version of the\n",
        "dataset. In this dataset, all audio files are about 1 second long (and\n",
        "so about 16000 time frames long).\n",
        "\n",
        "The actual loading and formatting steps happen when a data point is\n",
        "being accessed, and torchaudio takes care of converting the audio files\n",
        "to tensors. If one wants to load an audio file directly instead,\n",
        "``torchaudio.load()`` can be used. It returns a tuple containing the\n",
        "newly created tensor along with the sampling frequency of the audio file\n",
        "(16kHz for SpeechCommands).\n",
        "\n",
        "Going back to the dataset, here we create a subclass that splits it into\n",
        "standard training, validation, testing subsets.\n",
        "\n",
        "\n"
      ]
    },
    {
      "cell_type": "code",
      "execution_count": 5,
      "metadata": {
        "collapsed": false
      },
      "outputs": [],
      "source": [
        "from torchaudio.datasets import SPEECHCOMMANDS\n",
        "import os\n",
        "\n",
        "\n",
        "class SubsetSC(SPEECHCOMMANDS):\n",
        "    def __init__(self, subset: str = None):\n",
        "        super().__init__(\"../\", download=False,url=\"speech_commands_v0.01\")\n",
        "\n",
        "        def load_list(filename):\n",
        "            filepath = os.path.join(self._path, filename)\n",
        "            with open(filepath) as fileobj:\n",
        "                return [os.path.normpath(os.path.join(self._path, line.strip())) for line in fileobj]\n",
        "\n",
        "        if subset == \"validation\":\n",
        "            self._walker = load_list(\"validation_list.txt\")\n",
        "        elif subset == \"testing\":\n",
        "            self._walker = load_list(\"testing_list.txt\")\n",
        "        elif subset == \"training\":\n",
        "            excludes = load_list(\"validation_list.txt\") + load_list(\"testing_list.txt\")\n",
        "            excludes = set(excludes)\n",
        "            self._walker = [w for w in self._walker if w not in excludes]\n",
        "\n",
        "\n",
        "# Create training and testing split of the data. We do not use validation in this tutorial.\n",
        "train_set = SubsetSC(\"training\")\n",
        "test_set = SubsetSC(\"testing\")\n",
        "\n",
        "waveform, sample_rate, label, speaker_id, utterance_number = train_set[0]"
      ]
    },
    {
      "cell_type": "markdown",
      "metadata": {},
      "source": [
        "A data point in the SPEECHCOMMANDS dataset is a tuple made of a waveform\n",
        "(the audio signal), the sample rate, the utterance (label), the ID of\n",
        "the speaker, the number of the utterance.\n",
        "\n",
        "\n"
      ]
    },
    {
      "cell_type": "code",
      "execution_count": 6,
      "metadata": {
        "collapsed": false
      },
      "outputs": [
        {
          "name": "stdout",
          "output_type": "stream",
          "text": [
            "Shape of waveform: torch.Size([1, 11146])\n",
            "Sample rate of waveform: 16000\n"
          ]
        },
        {
          "data": {
            "image/png": "[encoded data removed]",
            "text/plain": [
              "<Figure size 640x480 with 1 Axes>"
            ]
          },
          "metadata": {},
          "output_type": "display_data"
        }
      ],
      "source": [
        "print(\"Shape of waveform: {}\".format(waveform.size()))\n",
        "print(\"Sample rate of waveform: {}\".format(sample_rate))\n",
        "\n",
        "plt.plot(waveform.t().numpy());"
      ]
    },
    {
      "cell_type": "markdown",
      "metadata": {},
      "source": [
        "Let’s find the list of labels available in the dataset.\n",
        "\n",
        "\n"
      ]
    },
    {
      "cell_type": "code",
      "execution_count": 7,
      "metadata": {
        "collapsed": false
      },
      "outputs": [
        {
          "data": {
            "text/plain": [
              "['go', 'left', 'right', 'stop']"
            ]
          },
          "execution_count": 7,
          "metadata": {},
          "output_type": "execute_result"
        }
      ],
      "source": [
        "labels = sorted(list(set(datapoint[2] for datapoint in train_set)))\n",
        "labels"
      ]
    },
    {
      "cell_type": "markdown",
      "metadata": {},
      "source": [
        "The 35 audio labels are commands that are said by users. The first few\n",
        "files are people saying “marvin”. \n",
        "\n",
        "//we dont have that available, this will be some random file\n",
        "\n",
        "\n"
      ]
    },
    {
      "cell_type": "code",
      "execution_count": 8,
      "metadata": {
        "collapsed": false
      },
      "outputs": [
        {
          "data": {
            "text/html": [
              "\n",
              "                <audio  controls=\"controls\" >\n",
              "                    <source src=\"data:audio/wav;base64,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\" type=\"audio/wav\" />\n",
              "                    Your browser does not support the audio element.\n",
              "                </audio>\n",
              "              "
            ],
            "text/plain": [
              "<IPython.lib.display.Audio object>"
            ]
          },
          "execution_count": 8,
          "metadata": {},
          "output_type": "execute_result"
        }
      ],
      "source": [
        "waveform_first, *_ = train_set[0]\n",
        "ipd.Audio(waveform_first.numpy(), rate=sample_rate)\n",
        "\n",
        "waveform_second, *_ = train_set[1]\n",
        "ipd.Audio(waveform_second.numpy(), rate=sample_rate)"
      ]
    },
    {
      "cell_type": "markdown",
      "metadata": {},
      "source": [
        "The last file is someone saying “visual”. //we dont have that available, this will be some random file\n",
        "\n",
        "\n"
      ]
    },
    {
      "cell_type": "code",
      "execution_count": 9,
      "metadata": {
        "collapsed": false
      },
      "outputs": [
        {
          "data": {
            "text/html": [
              "\n",
              "                <audio  controls=\"controls\" >\n",
              "                    <source src=\"data:audio/wav;base64,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\" type=\"audio/wav\" />\n",
              "                    Your browser does not support the audio element.\n",
              "                </audio>\n",
              "              "
            ],
            "text/plain": [
              "<IPython.lib.display.Audio object>"
            ]
          },
          "execution_count": 9,
          "metadata": {},
          "output_type": "execute_result"
        }
      ],
      "source": [
        "waveform_last, *_ = train_set[-1]\n",
        "ipd.Audio(waveform_last.numpy(), rate=sample_rate)"
      ]
    },
    {
      "cell_type": "markdown",
      "metadata": {},
      "source": [
        "plotting functions"
      ]
    },
    {
      "cell_type": "code",
      "execution_count": 10,
      "metadata": {},
      "outputs": [
        {
          "name": "stdout",
          "output_type": "stream",
          "text": [
            "Defaulting to user installation because normal site-packages is not writeable\n",
            "Requirement already satisfied: librosa in c:\\users\\micha\\appdata\\roaming\\python\\python310\\site-packages (0.10.1)\n",
            "Requirement already satisfied: audioread>=2.1.9 in c:\\users\\micha\\appdata\\roaming\\python\\python310\\site-packages (from librosa) (3.0.1)\n",
            "Requirement already satisfied: numpy!=1.22.0,!=1.22.1,!=1.22.2,>=1.20.3 in c:\\users\\micha\\appdata\\roaming\\python\\python310\\site-packages (from librosa) (1.24.2)\n",
            "Requirement already satisfied: scipy>=1.2.0 in c:\\program files\\python310\\lib\\site-packages (from librosa) (1.10.1)\n",
            "Requirement already satisfied: scikit-learn>=0.20.0 in c:\\program files\\python310\\lib\\site-packages (from librosa) (1.2.2)\n",
            "Requirement already satisfied: joblib>=0.14 in c:\\program files\\python310\\lib\\site-packages (from librosa) (1.2.0)\n",
            "Requirement already satisfied: decorator>=4.3.0 in c:\\users\\micha\\appdata\\roaming\\python\\python310\\site-packages (from librosa) (5.1.1)\n",
            "Requirement already satisfied: numba>=0.51.0 in c:\\users\\micha\\appdata\\roaming\\python\\python310\\site-packages (from librosa) (0.58.0)\n",
            "Requirement already satisfied: soundfile>=0.12.1 in c:\\users\\micha\\appdata\\roaming\\python\\python310\\site-packages (from librosa) (0.12.1)\n",
            "Requirement already satisfied: pooch>=1.0 in c:\\users\\micha\\appdata\\roaming\\python\\python310\\site-packages (from librosa) (1.8.0)\n",
            "Requirement already satisfied: soxr>=0.3.2 in c:\\users\\micha\\appdata\\roaming\\python\\python310\\site-packages (from librosa) (0.3.7)\n",
            "Requirement already satisfied: typing-extensions>=4.1.1 in c:\\users\\micha\\appdata\\roaming\\python\\python310\\site-packages (from librosa) (4.5.0)\n",
            "Requirement already satisfied: lazy-loader>=0.1 in c:\\users\\micha\\appdata\\roaming\\python\\python310\\site-packages (from librosa) (0.3)\n",
            "Requirement already satisfied: msgpack>=1.0 in c:\\users\\micha\\appdata\\roaming\\python\\python310\\site-packages (from librosa) (1.0.7)\n",
            "Requirement already satisfied: llvmlite<0.42,>=0.41.0dev0 in c:\\users\\micha\\appdata\\roaming\\python\\python310\\site-packages (from numba>=0.51.0->librosa) (0.41.0)\n",
            "Requirement already satisfied: platformdirs>=2.5.0 in c:\\users\\micha\\appdata\\roaming\\python\\python310\\site-packages (from pooch>=1.0->librosa) (3.10.0)\n",
            "Requirement already satisfied: packaging>=20.0 in c:\\users\\micha\\appdata\\roaming\\python\\python310\\site-packages (from pooch>=1.0->librosa) (23.0)\n",
            "Requirement already satisfied: requests>=2.19.0 in c:\\users\\micha\\appdata\\roaming\\python\\python310\\site-packages (from pooch>=1.0->librosa) (2.28.2)\n",
            "Requirement already satisfied: threadpoolctl>=2.0.0 in c:\\program files\\python310\\lib\\site-packages (from scikit-learn>=0.20.0->librosa) (3.1.0)\n",
            "Requirement already satisfied: cffi>=1.0 in c:\\users\\micha\\appdata\\roaming\\python\\python310\\site-packages (from soundfile>=0.12.1->librosa) (1.15.1)\n",
            "Requirement already satisfied: pycparser in c:\\users\\micha\\appdata\\roaming\\python\\python310\\site-packages (from cffi>=1.0->soundfile>=0.12.1->librosa) (2.21)\n",
            "Requirement already satisfied: charset-normalizer<4,>=2 in c:\\users\\micha\\appdata\\roaming\\python\\python310\\site-packages (from requests>=2.19.0->pooch>=1.0->librosa) (3.0.1)\n",
            "Requirement already satisfied: idna<4,>=2.5 in c:\\users\\micha\\appdata\\roaming\\python\\python310\\site-packages (from requests>=2.19.0->pooch>=1.0->librosa) (3.4)\n",
            "Requirement already satisfied: urllib3<1.27,>=1.21.1 in c:\\users\\micha\\appdata\\roaming\\python\\python310\\site-packages (from requests>=2.19.0->pooch>=1.0->librosa) (1.26.14)\n",
            "Requirement already satisfied: certifi>=2017.4.17 in c:\\users\\micha\\appdata\\roaming\\python\\python310\\site-packages (from requests>=2.19.0->pooch>=1.0->librosa) (2022.12.7)\n",
            "Note: you may need to restart the kernel to use updated packages.\n"
          ]
        },
        {
          "name": "stderr",
          "output_type": "stream",
          "text": [
            "\n",
            "[notice] A new release of pip is available: 23.2.1 -> 23.3.1\n",
            "[notice] To update, run: python.exe -m pip install --upgrade pip\n"
          ]
        }
      ],
      "source": [
        "\n",
        "#%pip install librosa\n",
        "\n",
        "import librosa\n",
        "\n",
        "\n",
        "\n",
        "def plot_waveform(waveform, sr, title=\"Waveform\", ax=None):\n",
        "    waveform = waveform.numpy()\n",
        "\n",
        "    num_channels, num_frames = waveform.shape\n",
        "    time_axis = torch.arange(0, num_frames) / sr\n",
        "\n",
        "    if ax is None:\n",
        "        _, ax = plt.subplots(num_channels, 1)\n",
        "    ax.plot(time_axis, waveform[0], linewidth=1)\n",
        "    ax.grid(True)\n",
        "    ax.set_xlim([0, time_axis[-1]])\n",
        "    ax.set_title(title)\n",
        "\n",
        "\n",
        "def plot_spectrogram(specgram, title=None, ylabel=\"freq_bin\", ax=None):\n",
        "    if ax is None:\n",
        "        _, ax = plt.subplots(1, 1)\n",
        "    if title is not None:\n",
        "        ax.set_title(title)\n",
        "    ax.set_ylabel(ylabel)\n",
        "    ax.imshow(librosa.power_to_db(specgram), origin=\"lower\", aspect=\"auto\", interpolation=\"nearest\")"
      ]
    },
    {
      "cell_type": "markdown",
      "metadata": {},
      "source": [
        "## Formatting the Data\n",
        "\n",
        "This is a good place to apply transformations to the data. For the\n",
        "waveform, we downsample the audio for faster processing without losing\n",
        "too much of the classification power.\n",
        "\n",
        "We don’t need to apply other transformations here. It is common for some\n",
        "datasets though to have to reduce the number of channels (say from\n",
        "stereo to mono) by either taking the mean along the channel dimension,\n",
        "or simply keeping only one of the channels. Since SpeechCommands uses a\n",
        "single channel for audio, this is not needed here.\n",
        "\n",
        "\n"
      ]
    },
    {
      "cell_type": "code",
      "execution_count": 19,
      "metadata": {
        "collapsed": false
      },
      "outputs": [
        {
          "data": {
            "text/html": [
              "\n",
              "                <audio  controls=\"controls\" >\n",
              "                    <source src=\"data:audio/wav;base64,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\" type=\"audio/wav\" />\n",
              "                    Your browser does not support the audio element.\n",
              "                </audio>\n",
              "              "
            ],
            "text/plain": [
              "<IPython.lib.display.Audio object>"
            ]
          },
          "execution_count": 19,
          "metadata": {},
          "output_type": "execute_result"
        },
        {
          "data": {
            "image/png": "[encoded data removed]",
            "text/plain": [
              "<Figure size 640x480 with 2 Axes>"
            ]
          },
          "metadata": {},
          "output_type": "display_data"
        }
      ],
      "source": [
        "#based on \n",
        "#https://pytorch.org/audio/stable/tutorials/audio_feature_extractions_tutorial.html#sphx-glr-tutorials-audio-feature-extractions-tutorial-py\n",
        "\n",
        "new_sample_rate = 8000\n",
        "#transform = torchaudio.transforms.Resample(orig_freq=sample_rate, new_freq=new_sample_rate)\n",
        "#transformed = transform(waveform)\n",
        "\n",
        "\n",
        "        \n",
        "transform_resample = torchaudio.transforms.Resample(orig_freq=sample_rate, new_freq=new_sample_rate)\n",
        "transform_spectrogram = torchaudio.transforms.Spectrogram(n_fft=400,normalized=True)\n",
        "\n",
        "transformed_waveform = transform_resample(waveform)\n",
        "transformed_spectrogram = transform_spectrogram(transformed_waveform)\n",
        "\n",
        "\n",
        "fig, axs = plt.subplots(2, 1)\n",
        "plot_waveform(transformed_waveform, new_sample_rate, title=\"Waveform\", ax=axs[0])\n",
        "plot_spectrogram(transformed_spectrogram[0], title=\"spectrogram\", ax=axs[1])\n",
        "fig.tight_layout()\n",
        "\n",
        "ipd.Audio(transformed_waveform.numpy(), rate=new_sample_rate)"
      ]
    },
    {
      "cell_type": "markdown",
      "metadata": {},
      "source": [
        "We are encoding each word using its index in the list of labels.\n",
        "\n",
        "\n"
      ]
    },
    {
      "cell_type": "code",
      "execution_count": 20,
      "metadata": {
        "collapsed": false
      },
      "outputs": [
        {
          "name": "stdout",
          "output_type": "stream",
          "text": [
            "go --> tensor(0) --> go\n"
          ]
        }
      ],
      "source": [
        "def label_to_index(word):\n",
        "    # Return the position of the word in labels\n",
        "    return torch.tensor(labels.index(word))\n",
        "\n",
        "\n",
        "def index_to_label(index):\n",
        "    # Return the word corresponding to the index in labels\n",
        "    # This is the inverse of label_to_index\n",
        "    return labels[index]\n",
        "\n",
        "\n",
        "word_start = \"go\"\n",
        "index = label_to_index(word_start)\n",
        "word_recovered = index_to_label(index)\n",
        "\n",
        "print(word_start, \"-->\", index, \"-->\", word_recovered)"
      ]
    },
    {
      "cell_type": "markdown",
      "metadata": {},
      "source": [
        "To turn a list of data point made of audio recordings and utterances\n",
        "into two batched tensors for the model, we implement a collate function\n",
        "which is used by the PyTorch DataLoader that allows us to iterate over a\n",
        "dataset by batches. Please see [the\n",
        "documentation](https://pytorch.org/docs/stable/data.html#working-with-collate-fn)_\n",
        "for more information about working with a collate function.\n",
        "\n",
        "In the collate function, we also apply the resampling, and the text\n",
        "encoding.\n",
        "\n",
        "\n"
      ]
    },
    {
      "cell_type": "code",
      "execution_count": 21,
      "metadata": {
        "collapsed": false
      },
      "outputs": [],
      "source": [
        "def pad_sequence(batch):\n",
        "    # Make all tensor in a batch the same length by padding with zeros\n",
        "    batch = [item.t() for item in batch]\n",
        "    batch = torch.nn.utils.rnn.pad_sequence(batch, batch_first=True, padding_value=0.)\n",
        "    return batch.permute(0, 2, 1)\n",
        "\n",
        "\n",
        "def collate_fn(batch):\n",
        "\n",
        "    # A data tuple has the form:\n",
        "    # waveform, sample_rate, label, speaker_id, utterance_number\n",
        "\n",
        "    tensors, targets = [], []\n",
        "\n",
        "    # Gather in lists, and encode labels as indices\n",
        "    for waveform, _, label, *_ in batch:\n",
        "        tensors += [waveform]\n",
        "        targets += [label_to_index(label)]\n",
        "\n",
        "    # Group the list of tensors into a batched tensor\n",
        "    tensors = pad_sequence(tensors)\n",
        "    targets = torch.stack(targets)\n",
        "\n",
        "    return tensors, targets\n",
        "\n",
        "\n",
        "batch_size = 256\n",
        "\n",
        "if device == \"cuda\":\n",
        "    num_workers = 1\n",
        "    pin_memory = True\n",
        "else:\n",
        "    num_workers = 0\n",
        "    pin_memory = False\n",
        "\n",
        "train_loader = torch.utils.data.DataLoader(\n",
        "    train_set,\n",
        "    batch_size=batch_size,\n",
        "    shuffle=True,\n",
        "    collate_fn=collate_fn,\n",
        "    num_workers=num_workers,\n",
        "    pin_memory=pin_memory,\n",
        ")\n",
        "test_loader = torch.utils.data.DataLoader(\n",
        "    test_set,\n",
        "    batch_size=batch_size,\n",
        "    shuffle=False,\n",
        "    drop_last=False,\n",
        "    collate_fn=collate_fn,\n",
        "    num_workers=num_workers,\n",
        "    pin_memory=pin_memory,\n",
        ")"
      ]
    },
    {
      "cell_type": "markdown",
      "metadata": {},
      "source": [
        "## Define the Network\n",
        "\n",
        "For this tutorial we will use a convolutional neural network to process\n",
        "the raw audio data. Usually more advanced transforms are applied to the\n",
        "audio data, however CNNs can be used to accurately process the raw data.\n",
        "The specific architecture is modeled after the M5 network architecture\n",
        "described in [this paper](https://arxiv.org/pdf/1610.00087.pdf)_. An\n",
        "important aspect of models processing raw audio data is the receptive\n",
        "field of their first layer’s filters. Our model’s first filter is length\n",
        "80 so when processing audio sampled at 8kHz the receptive field is\n",
        "around 10ms (and at 4kHz, around 20 ms). This size is similar to speech\n",
        "processing applications that often use receptive fields ranging from\n",
        "20ms to 40ms.\n",
        "\n",
        "\n"
      ]
    },
    {
      "cell_type": "code",
      "execution_count": 12,
      "metadata": {
        "collapsed": false
      },
      "outputs": [
        {
          "name": "stdout",
          "output_type": "stream",
          "text": [
            "M5(\n",
            "  (conv1): Conv1d(1, 32, kernel_size=(80,), stride=(16,))\n",
            "  (bn1): BatchNorm1d(32, eps=1e-05, momentum=0.1, affine=True, track_running_stats=True)\n",
            "  (pool1): MaxPool1d(kernel_size=4, stride=4, padding=0, dilation=1, ceil_mode=False)\n",
            "  (conv2): Conv1d(32, 32, kernel_size=(3,), stride=(1,))\n",
            "  (bn2): BatchNorm1d(32, eps=1e-05, momentum=0.1, affine=True, track_running_stats=True)\n",
            "  (pool2): MaxPool1d(kernel_size=4, stride=4, padding=0, dilation=1, ceil_mode=False)\n",
            "  (conv3): Conv1d(32, 64, kernel_size=(3,), stride=(1,))\n",
            "  (bn3): BatchNorm1d(64, eps=1e-05, momentum=0.1, affine=True, track_running_stats=True)\n",
            "  (pool3): MaxPool1d(kernel_size=4, stride=4, padding=0, dilation=1, ceil_mode=False)\n",
            "  (conv4): Conv1d(64, 64, kernel_size=(3,), stride=(1,))\n",
            "  (bn4): BatchNorm1d(64, eps=1e-05, momentum=0.1, affine=True, track_running_stats=True)\n",
            "  (pool4): MaxPool1d(kernel_size=4, stride=4, padding=0, dilation=1, ceil_mode=False)\n",
            "  (fc1): Linear(in_features=64, out_features=4, bias=True)\n",
            ")\n",
            "Number of parameters: 24900\n"
          ]
        }
      ],
      "source": [
        "class M5(nn.Module):\n",
        "    def __init__(self, n_input=1, n_output=35, stride=16, n_channel=32):\n",
        "        super().__init__()\n",
        "        self.conv1 = nn.Conv1d(n_input, n_channel, kernel_size=80, stride=stride)\n",
        "        self.bn1 = nn.BatchNorm1d(n_channel)\n",
        "        self.pool1 = nn.MaxPool1d(4)\n",
        "        self.conv2 = nn.Conv1d(n_channel, n_channel, kernel_size=3)\n",
        "        self.bn2 = nn.BatchNorm1d(n_channel)\n",
        "        self.pool2 = nn.MaxPool1d(4)\n",
        "        self.conv3 = nn.Conv1d(n_channel, 2 * n_channel, kernel_size=3)\n",
        "        self.bn3 = nn.BatchNorm1d(2 * n_channel)\n",
        "        self.pool3 = nn.MaxPool1d(4)\n",
        "        self.conv4 = nn.Conv1d(2 * n_channel, 2 * n_channel, kernel_size=3)\n",
        "        self.bn4 = nn.BatchNorm1d(2 * n_channel)\n",
        "        self.pool4 = nn.MaxPool1d(4)\n",
        "        self.fc1 = nn.Linear(2 * n_channel, n_output)\n",
        "\n",
        "    def forward(self, x):\n",
        "        x = self.conv1(x)\n",
        "        x = F.relu(self.bn1(x))\n",
        "        x = self.pool1(x)\n",
        "        x = self.conv2(x)\n",
        "        x = F.relu(self.bn2(x))\n",
        "        x = self.pool2(x)\n",
        "        x = self.conv3(x)\n",
        "        x = F.relu(self.bn3(x))\n",
        "        x = self.pool3(x)\n",
        "        x = self.conv4(x)\n",
        "        x = F.relu(self.bn4(x))\n",
        "        x = self.pool4(x)\n",
        "        x = F.avg_pool1d(x, x.shape[-1])\n",
        "        x = x.permute(0, 2, 1)\n",
        "        x = self.fc1(x)\n",
        "        return F.log_softmax(x, dim=2)\n",
        "\n",
        "\n",
        "model = M5(n_input=transformed.shape[0], n_output=len(labels))\n",
        "model.to(device)\n",
        "print(model)\n",
        "\n",
        "\n",
        "def count_parameters(model):\n",
        "    return sum(p.numel() for p in model.parameters() if p.requires_grad)\n",
        "\n",
        "\n",
        "n = count_parameters(model)\n",
        "print(\"Number of parameters: %s\" % n)"
      ]
    },
    {
      "cell_type": "markdown",
      "metadata": {},
      "source": [
        "We will use the same optimization technique used in the paper, an Adam\n",
        "optimizer with weight decay set to 0.0001. At first, we will train with\n",
        "a learning rate of 0.01, but we will use a ``scheduler`` to decrease it\n",
        "to 0.001 during training after 20 epochs.\n",
        "\n",
        "\n"
      ]
    },
    {
      "cell_type": "code",
      "execution_count": 14,
      "metadata": {
        "collapsed": false
      },
      "outputs": [],
      "source": [
        "optimizer = optim.Adam(model.parameters(), lr=0.01, weight_decay=0.0001)\n",
        "scheduler = optim.lr_scheduler.StepLR(optimizer, step_size=20, gamma=0.1)  # reduce the learning after 20 epochs by a factor of 10"
      ]
    },
    {
      "cell_type": "markdown",
      "metadata": {},
      "source": [
        "## Training and Testing the Network\n",
        "\n",
        "Now let’s define a training function that will feed our training data\n",
        "into the model and perform the backward pass and optimization steps. For\n",
        "training, the loss we will use is the negative log-likelihood. The\n",
        "network will then be tested after each epoch to see how the accuracy\n",
        "varies during the training.\n",
        "\n",
        "\n"
      ]
    },
    {
      "cell_type": "code",
      "execution_count": 13,
      "metadata": {
        "collapsed": false
      },
      "outputs": [],
      "source": [
        "def train(model, epoch, log_interval):\n",
        "    model.train()\n",
        "    for batch_idx, (data, target) in enumerate(train_loader):\n",
        "\n",
        "        data = data.to(device)\n",
        "        target = target.to(device)\n",
        "\n",
        "        # apply transform and model on whole batch directly on device\n",
        "        data = transform(data)\n",
        "        output = model(data)\n",
        "\n",
        "        # negative log-likelihood for a tensor of size (batch x 1 x n_output)\n",
        "        loss = F.nll_loss(output.squeeze(), target)\n",
        "\n",
        "        optimizer.zero_grad()\n",
        "        loss.backward()\n",
        "        optimizer.step()\n",
        "\n",
        "        # print training stats\n",
        "        if batch_idx % log_interval == 0:\n",
        "            print(f\"Train Epoch: {epoch} [{batch_idx * len(data)}/{len(train_loader.dataset)} ({100. * batch_idx / len(train_loader):.0f}%)]\\tLoss: {loss.item():.6f}\")\n",
        "\n",
        "        # update progress bar\n",
        "        pbar.update(pbar_update) \n",
        "        # record loss\n",
        "        losses.append(loss.item())"
      ]
    },
    {
      "cell_type": "markdown",
      "metadata": {},
      "source": [
        "Now that we have a training function, we need to make one for testing\n",
        "the networks accuracy. We will set the model to ``eval()`` mode and then\n",
        "run inference on the test dataset. Calling ``eval()`` sets the training\n",
        "variable in all modules in the network to false. Certain layers like\n",
        "batch normalization and dropout layers behave differently during\n",
        "training so this step is crucial for getting correct results.\n",
        "\n",
        "\n"
      ]
    },
    {
      "cell_type": "code",
      "execution_count": 15,
      "metadata": {
        "collapsed": false
      },
      "outputs": [],
      "source": [
        "def number_of_correct(pred, target):\n",
        "    # count number of correct predictions\n",
        "    return pred.squeeze().eq(target).sum().item()\n",
        "\n",
        "\n",
        "def get_likely_index(tensor):\n",
        "    # find most likely label index for each element in the batch\n",
        "    return tensor.argmax(dim=-1)\n",
        "\n",
        "\n",
        "def test(model, epoch):\n",
        "    model.eval()\n",
        "    correct = 0\n",
        "    for data, target in test_loader:\n",
        "\n",
        "        data = data.to(device)\n",
        "        target = target.to(device)\n",
        "\n",
        "        # apply transform and model on whole batch directly on device\n",
        "        data = transform(data)\n",
        "        output = model(data)\n",
        "\n",
        "        pred = get_likely_index(output)\n",
        "        correct += number_of_correct(pred, target)\n",
        "\n",
        "        # update progress bar\n",
        "        pbar.update(pbar_update)\n",
        "\n",
        "    print(f\"\\nTest Epoch: {epoch}\\tAccuracy: {correct}/{len(test_loader.dataset)} ({100. * correct / len(test_loader.dataset):.0f}%)\\n\")"
      ]
    },
    {
      "cell_type": "markdown",
      "metadata": {},
      "source": [
        "Finally, we can train and test the network. We will train the network\n",
        "for ten epochs then reduce the learn rate and train for ten more epochs.\n",
        "The network will be tested after each epoch to see how the accuracy\n",
        "varies during the training.\n",
        "\n",
        "\n"
      ]
    },
    {
      "cell_type": "code",
      "execution_count": 16,
      "metadata": {
        "collapsed": false
      },
      "outputs": [
        {
          "name": "stderr",
          "output_type": "stream",
          "text": [
            "  3%|▎         | 0.05714285714285714/2 [00:06<03:09, 97.46s/it] "
          ]
        },
        {
          "name": "stdout",
          "output_type": "stream",
          "text": [
            "Train Epoch: 1 [0/7437 (0%)]\tLoss: 1.430667\n"
          ]
        },
        {
          "name": "stderr",
          "output_type": "stream",
          "text": [
            " 33%|███▎      | 0.6571428571428573/2 [00:08<00:04,  3.39s/it] "
          ]
        },
        {
          "name": "stdout",
          "output_type": "stream",
          "text": [
            "Train Epoch: 1 [5120/7437 (67%)]\tLoss: 0.865289\n"
          ]
        },
        {
          "name": "stderr",
          "output_type": "stream",
          "text": [
            " 53%|█████▎    | 1.0571428571428572/2 [00:10<00:03,  3.59s/it]"
          ]
        },
        {
          "name": "stdout",
          "output_type": "stream",
          "text": [
            "\n",
            "Test Epoch: 1\tAccuracy: 471/1026 (46%)\n",
            "\n",
            "Train Epoch: 2 [0/7437 (0%)]\tLoss: 0.704262\n"
          ]
        },
        {
          "name": "stderr",
          "output_type": "stream",
          "text": [
            " 81%|████████▏ | 1.6285714285714266/2 [00:12<00:01,  3.34s/it]"
          ]
        },
        {
          "name": "stdout",
          "output_type": "stream",
          "text": [
            "Train Epoch: 2 [5120/7437 (67%)]\tLoss: 0.479161\n"
          ]
        },
        {
          "name": "stderr",
          "output_type": "stream",
          "text": [
            "100%|█████████▉| 1.9999999999999967/2 [00:13<00:00,  6.58s/it]"
          ]
        },
        {
          "name": "stdout",
          "output_type": "stream",
          "text": [
            "\n",
            "Test Epoch: 2\tAccuracy: 823/1026 (80%)\n",
            "\n"
          ]
        },
        {
          "name": "stderr",
          "output_type": "stream",
          "text": [
            "\n"
          ]
        }
      ],
      "source": [
        "log_interval = 20\n",
        "n_epoch = 2\n",
        "\n",
        "pbar_update = 1 / (len(train_loader) + len(test_loader))\n",
        "losses = []\n",
        "\n",
        "# The transform needs to live on the same device as the model and the data.\n",
        "transform = transform.to(device)\n",
        "with tqdm(total=n_epoch) as pbar:\n",
        "    for epoch in range(1, n_epoch + 1):\n",
        "        train(model, epoch, log_interval)\n",
        "        test(model, epoch)\n",
        "        scheduler.step()\n",
        "\n",
        "# Let's plot the training loss versus the number of iteration.\n",
        "# plt.plot(losses);\n",
        "# plt.title(\"training loss\");"
      ]
    },
    {
      "cell_type": "markdown",
      "metadata": {},
      "source": [
        "The network should be more than 65% accurate on the test set after 2\n",
        "epochs, and 85% after 21 epochs. Let’s look at the last words in the\n",
        "train set, and see how the model did on it.\n",
        "\n",
        "\n"
      ]
    },
    {
      "cell_type": "code",
      "execution_count": 17,
      "metadata": {
        "collapsed": false
      },
      "outputs": [
        {
          "name": "stdout",
          "output_type": "stream",
          "text": [
            "Expected: stop. Predicted: stop.\n"
          ]
        }
      ],
      "source": [
        "def predict(tensor):\n",
        "    # Use the model to predict the label of the waveform\n",
        "    tensor = tensor.to(device)\n",
        "    tensor = transform(tensor)\n",
        "    tensor = model(tensor.unsqueeze(0))\n",
        "    tensor = get_likely_index(tensor)\n",
        "    tensor = index_to_label(tensor.squeeze())\n",
        "    return tensor\n",
        "\n",
        "\n",
        "waveform, sample_rate, utterance, *_ = train_set[-1]\n",
        "ipd.Audio(waveform.numpy(), rate=sample_rate)\n",
        "\n",
        "print(f\"Expected: {utterance}. Predicted: {predict(waveform)}.\")"
      ]
    },
    {
      "cell_type": "markdown",
      "metadata": {},
      "source": [
        "Let’s find an example that isn’t classified correctly, if there is one.\n",
        "\n",
        "\n"
      ]
    },
    {
      "cell_type": "code",
      "execution_count": 18,
      "metadata": {
        "collapsed": false
      },
      "outputs": [
        {
          "name": "stdout",
          "output_type": "stream",
          "text": [
            "Data point #0. Expected: go. Predicted: right.\n"
          ]
        }
      ],
      "source": [
        "for i, (waveform, sample_rate, utterance, *_) in enumerate(test_set):\n",
        "    output = predict(waveform)\n",
        "    if output != utterance:\n",
        "        ipd.Audio(waveform.numpy(), rate=sample_rate)\n",
        "        print(f\"Data point #{i}. Expected: {utterance}. Predicted: {output}.\")\n",
        "        break\n",
        "else:\n",
        "    print(\"All examples in this dataset were correctly classified!\")\n",
        "    print(\"In this case, let's just look at the last data point\")\n",
        "    ipd.Audio(waveform.numpy(), rate=sample_rate)\n",
        "    print(f\"Data point #{i}. Expected: {utterance}. Predicted: {output}.\")"
      ]
    },
    {
      "cell_type": "markdown",
      "metadata": {},
      "source": [
        "Feel free to try with one of your own recordings of one of the labels!\n",
        "For example, using Colab, say “Go” while executing the cell below. This\n",
        "will record one second of audio and try to classify it.\n",
        "\n",
        "\n"
      ]
    },
    {
      "cell_type": "code",
      "execution_count": null,
      "metadata": {
        "collapsed": false
      },
      "outputs": [],
      "source": [
        "#toto by sa dalo prerobit na bonusovu ulohu\n",
        "# def record(seconds=1):\n",
        "\n",
        "#     from google.colab import output as colab_output\n",
        "#     from base64 import b64decode\n",
        "#     from io import BytesIO\n",
        "#     from pydub import AudioSegment\n",
        "\n",
        "#     RECORD = (\n",
        "#         b\"const sleep  = time => new Promise(resolve => setTimeout(resolve, time))\\n\"\n",
        "#         b\"const b2text = blob => new Promise(resolve => {\\n\"\n",
        "#         b\"  const reader = new FileReader()\\n\"\n",
        "#         b\"  reader.onloadend = e => resolve(e.srcElement.result)\\n\"\n",
        "#         b\"  reader.readAsDataURL(blob)\\n\"\n",
        "#         b\"})\\n\"\n",
        "#         b\"var record = time => new Promise(async resolve => {\\n\"\n",
        "#         b\"  stream = await navigator.mediaDevices.getUserMedia({ audio: true })\\n\"\n",
        "#         b\"  recorder = new MediaRecorder(stream)\\n\"\n",
        "#         b\"  chunks = []\\n\"\n",
        "#         b\"  recorder.ondataavailable = e => chunks.push(e.data)\\n\"\n",
        "#         b\"  recorder.start()\\n\"\n",
        "#         b\"  await sleep(time)\\n\"\n",
        "#         b\"  recorder.onstop = async ()=>{\\n\"\n",
        "#         b\"    blob = new Blob(chunks)\\n\"\n",
        "#         b\"    text = await b2text(blob)\\n\"\n",
        "#         b\"    resolve(text)\\n\"\n",
        "#         b\"  }\\n\"\n",
        "#         b\"  recorder.stop()\\n\"\n",
        "#         b\"})\"\n",
        "#     )\n",
        "#     RECORD = RECORD.decode(\"ascii\")\n",
        "\n",
        "#     print(f\"Recording started for {seconds} seconds.\")\n",
        "#     display(ipd.Javascript(RECORD))\n",
        "#     s = colab_output.eval_js(\"record(%d)\" % (seconds * 1000))\n",
        "#     print(\"Recording ended.\")\n",
        "#     b = b64decode(s.split(\",\")[1])\n",
        "\n",
        "#     fileformat = \"wav\"\n",
        "#     filename = f\"_audio.{fileformat}\"\n",
        "#     AudioSegment.from_file(BytesIO(b)).export(filename, format=fileformat)\n",
        "#     return torchaudio.load(filename)\n",
        "\n",
        "\n",
        "# # Detect whether notebook runs in google colab\n",
        "# if \"google.colab\" in sys.modules:\n",
        "#     waveform, sample_rate = record()\n",
        "#     print(f\"Predicted: {predict(waveform)}.\")\n",
        "#     ipd.Audio(waveform.numpy(), rate=sample_rate)"
      ]
    },
    {
      "cell_type": "markdown",
      "metadata": {},
      "source": [
        "## Conclusion\n",
        "\n",
        "In this tutorial, we used torchaudio to load a dataset and resample the\n",
        "signal. We have then defined a neural network that we trained to\n",
        "recognize a given command. There are also other data preprocessing\n",
        "methods, such as finding the mel frequency cepstral coefficients (MFCC),\n",
        "that can reduce the size of the dataset. This transform is also\n",
        "available in torchaudio as ``torchaudio.transforms.MFCC``.\n",
        "\n",
        "\n"
      ]
    }
  ],
  "metadata": {
    "kernelspec": {
      "display_name": "Python 3",
      "language": "python",
      "name": "python3"
    },
    "language_info": {
      "codemirror_mode": {
        "name": "ipython",
        "version": 3
      },
      "file_extension": ".py",
      "mimetype": "text/x-python",
      "name": "python",
      "nbconvert_exporter": "python",
      "pygments_lexer": "ipython3",
      "version": "3.10.8"
    }
  },
  "nbformat": 4,
  "nbformat_minor": 0
}
