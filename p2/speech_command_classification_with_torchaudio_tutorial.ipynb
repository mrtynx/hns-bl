{
  "cells": [
    {
      "cell_type": "code",
      "execution_count": 1,
      "metadata": {
        "collapsed": false
      },
      "outputs": [],
      "source": [
        "%matplotlib inline"
      ]
    },
    {
      "cell_type": "markdown",
      "metadata": {},
      "source": [
        "\n",
        "# Speech Command Classification with torchaudio\n",
        "\n",
        "This tutorial will show you how to correctly format an audio dataset and\n",
        "then train/test an audio classifier network on the dataset.\n",
        "\n",
        "Colab has GPU option available. In the menu tabs, select “Runtime” then\n",
        "“Change runtime type”. In the pop-up that follows, you can choose GPU.\n",
        "After the change, your runtime should automatically restart (which means\n",
        "information from executed cells disappear).\n",
        "\n",
        "First, let’s import the common torch packages such as\n",
        "[torchaudio](https://github.com/pytorch/audio)_ that can be installed\n",
        "by following the instructions on the website.\n"
      ]
    },
    {
      "cell_type": "code",
      "execution_count": 2,
      "metadata": {
        "collapsed": false
      },
      "outputs": [],
      "source": [
        "# Uncomment the line corresponding to your \"runtime type\" to run in Google Colab\n",
        "\n",
        "# CPU:\n",
        "# !pip install pydub torch==1.7.0+cpu torchvision==0.8.1+cpu torchaudio==0.7.0 -f https://download.pytorch.org/whl/torch_stable.html\n",
        "\n",
        "# GPU:\n",
        "# !pip install pydub torch==1.7.0+cu101 torchvision==0.8.1+cu101 torchaudio==0.7.0 -f https://download.pytorch.org/whl/torch_stable.html\n",
        "\n",
        "\n",
        "#Sound I/O backend\n",
        "#!pip install PySoundFile\n",
        "#restart computer after installation to reload enviromental variables\n",
        "\n",
        "#dataset vlozenie\n",
        "#do hlavneho folderu vytvorit folder SpeechCommands\n",
        "#donho dat zo zipka datasetu folder speech_commandsv0.01\n",
        "\n",
        "import torch\n",
        "import torch.nn as nn\n",
        "import torch.nn.functional as F\n",
        "import torch.optim as optim\n",
        "import torchaudio\n",
        "import soundfile as sf\n",
        "import sys\n",
        "\n",
        "import matplotlib.pyplot as plt\n",
        "import IPython.display as ipd\n",
        "\n",
        "from tqdm import tqdm"
      ]
    },
    {
      "cell_type": "markdown",
      "metadata": {},
      "source": [
        "Let’s check if a CUDA GPU is available and select our device. Running\n",
        "the network on a GPU will greatly decrease the training/testing runtime.\n",
        "\n",
        "\n"
      ]
    },
    {
      "cell_type": "code",
      "execution_count": 3,
      "metadata": {
        "collapsed": false
      },
      "outputs": [
        {
          "name": "stdout",
          "output_type": "stream",
          "text": [
            "cuda\n"
          ]
        }
      ],
      "source": [
        "device = torch.device(\"cuda\" if torch.cuda.is_available() else \"cpu\")\n",
        "print(device)\n",
        "\n",
        "torchaudio.set_audio_backend(\"soundfile\")"
      ]
    },
    {
      "cell_type": "markdown",
      "metadata": {},
      "source": [
        "## Importing the Dataset\n",
        "\n",
        "We use torchaudio to download and represent the dataset. Here we use\n",
        "[SpeechCommands](https://arxiv.org/abs/1804.03209)_, which is a\n",
        "datasets of 35 commands spoken by different people. The dataset\n",
        "``SPEECHCOMMANDS`` is a ``torch.utils.data.Dataset`` version of the\n",
        "dataset. In this dataset, all audio files are about 1 second long (and\n",
        "so about 16000 time frames long).\n",
        "\n",
        "The actual loading and formatting steps happen when a data point is\n",
        "being accessed, and torchaudio takes care of converting the audio files\n",
        "to tensors. If one wants to load an audio file directly instead,\n",
        "``torchaudio.load()`` can be used. It returns a tuple containing the\n",
        "newly created tensor along with the sampling frequency of the audio file\n",
        "(16kHz for SpeechCommands).\n",
        "\n",
        "Going back to the dataset, here we create a subclass that splits it into\n",
        "standard training, validation, testing subsets.\n",
        "\n",
        "\n"
      ]
    },
    {
      "cell_type": "code",
      "execution_count": 4,
      "metadata": {
        "collapsed": false
      },
      "outputs": [],
      "source": [
        "from torchaudio.datasets import SPEECHCOMMANDS\n",
        "import os\n",
        "\n",
        "\n",
        "class SubsetSC(SPEECHCOMMANDS):\n",
        "    def __init__(self, subset: str = None):\n",
        "        super().__init__(\"../\", download=False,url=\"speech_commands_v0.01\")\n",
        "\n",
        "        def load_list(filename):\n",
        "            filepath = os.path.join(self._path, filename)\n",
        "            with open(filepath) as fileobj:\n",
        "                return [os.path.normpath(os.path.join(self._path, line.strip())) for line in fileobj]\n",
        "\n",
        "        if subset == \"validation\":\n",
        "            self._walker = load_list(\"validation_list.txt\")\n",
        "        elif subset == \"testing\":\n",
        "            self._walker = load_list(\"testing_list.txt\")\n",
        "        elif subset == \"training\":\n",
        "            excludes = load_list(\"validation_list.txt\") + load_list(\"testing_list.txt\")\n",
        "            excludes = set(excludes)\n",
        "            self._walker = [w for w in self._walker if w not in excludes]\n",
        "\n",
        "\n",
        "# Create training and testing split of the data. We do not use validation in this tutorial.\n",
        "train_set = SubsetSC(\"training\")\n",
        "test_set = SubsetSC(\"testing\")\n",
        "\n",
        "waveform, sample_rate, label, speaker_id, utterance_number = train_set[0]"
      ]
    },
    {
      "cell_type": "markdown",
      "metadata": {},
      "source": [
        "A data point in the SPEECHCOMMANDS dataset is a tuple made of a waveform\n",
        "(the audio signal), the sample rate, the utterance (label), the ID of\n",
        "the speaker, the number of the utterance.\n",
        "\n",
        "\n"
      ]
    },
    {
      "cell_type": "code",
      "execution_count": 5,
      "metadata": {
        "collapsed": false
      },
      "outputs": [
        {
          "name": "stdout",
          "output_type": "stream",
          "text": [
            "Shape of waveform: torch.Size([1, 11146])\n",
            "Sample rate of waveform: 16000\n"
          ]
        },
        {
          "data": {
            "image/png": "[encoded data removed]",
            "text/plain": [
              "<Figure size 640x480 with 1 Axes>"
            ]
          },
          "metadata": {},
          "output_type": "display_data"
        }
      ],
      "source": [
        "print(\"Shape of waveform: {}\".format(waveform.size()))\n",
        "print(\"Sample rate of waveform: {}\".format(sample_rate))\n",
        "\n",
        "plt.plot(waveform.t().numpy());"
      ]
    },
    {
      "cell_type": "markdown",
      "metadata": {},
      "source": [
        "Let’s find the list of labels available in the dataset.\n",
        "\n",
        "\n"
      ]
    },
    {
      "cell_type": "code",
      "execution_count": 6,
      "metadata": {
        "collapsed": false
      },
      "outputs": [
        {
          "data": {
            "text/plain": [
              "['go', 'left', 'right', 'stop']"
            ]
          },
          "execution_count": 6,
          "metadata": {},
          "output_type": "execute_result"
        }
      ],
      "source": [
        "labels = sorted(list(set(datapoint[2] for datapoint in train_set)))\n",
        "labels"
      ]
    },
    {
      "cell_type": "markdown",
      "metadata": {},
      "source": [
        "The 35 audio labels are commands that are said by users. The first few\n",
        "files are people saying “marvin”. \n",
        "\n",
        "//we dont have that available, this will be some random file\n",
        "\n",
        "\n"
      ]
    },
    {
      "cell_type": "code",
      "execution_count": 10,
      "metadata": {
        "collapsed": false
      },
      "outputs": [
        {
          "data": {
            "text/html": [
              "\n",
              "                <audio  controls=\"controls\" >\n",
              "                    <source src=\"data:audio/wav;base64,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\" type=\"audio/wav\" />\n",
              "                    Your browser does not support the audio element.\n",
              "                </audio>\n",
              "              "
            ],
            "text/plain": [
              "<IPython.lib.display.Audio object>"
            ]
          },
          "execution_count": 10,
          "metadata": {},
          "output_type": "execute_result"
        }
      ],
      "source": [
        "waveform_first, *_ = train_set[0]\n",
        "ipd.Audio(waveform_first.numpy(), rate=sample_rate)\n",
        "\n",
        "waveform_second, *_ = train_set[1]\n",
        "ipd.Audio(waveform_second.numpy(), rate=sample_rate)"
      ]
    },
    {
      "cell_type": "markdown",
      "metadata": {},
      "source": [
        "The last file is someone saying “visual”. //we dont have that available, this will be some random file\n",
        "\n",
        "\n"
      ]
    },
    {
      "cell_type": "code",
      "execution_count": null,
      "metadata": {
        "collapsed": false
      },
      "outputs": [],
      "source": [
        "waveform_last, *_ = train_set[-1]\n",
        "ipd.Audio(waveform_last.numpy(), rate=sample_rate)"
      ]
    },
    {
      "cell_type": "markdown",
      "metadata": {},
      "source": [
        "## Formatting the Data\n",
        "\n",
        "This is a good place to apply transformations to the data. For the\n",
        "waveform, we downsample the audio for faster processing without losing\n",
        "too much of the classification power.\n",
        "\n",
        "We don’t need to apply other transformations here. It is common for some\n",
        "datasets though to have to reduce the number of channels (say from\n",
        "stereo to mono) by either taking the mean along the channel dimension,\n",
        "or simply keeping only one of the channels. Since SpeechCommands uses a\n",
        "single channel for audio, this is not needed here.\n",
        "\n",
        "\n"
      ]
    },
    {
      "cell_type": "code",
      "execution_count": 7,
      "metadata": {
        "collapsed": false
      },
      "outputs": [
        {
          "data": {
            "text/html": [
              "\n",
              "                <audio  controls=\"controls\" >\n",
              "                    <source src=\"data:audio/wav;base64,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\" type=\"audio/wav\" />\n",
              "                    Your browser does not support the audio element.\n",
              "                </audio>\n",
              "              "
            ],
            "text/plain": [
              "<IPython.lib.display.Audio object>"
            ]
          },
          "execution_count": 7,
          "metadata": {},
          "output_type": "execute_result"
        }
      ],
      "source": [
        "new_sample_rate = 8000\n",
        "transform = torchaudio.transforms.Resample(orig_freq=sample_rate, new_freq=new_sample_rate)\n",
        "transformed = transform(waveform)\n",
        "\n",
        "#podla samplov od kajana tu dat trensform na spektrogram namiesto raw dat, mozno by bolo zaujimave to porovnat\n",
        "\n",
        "ipd.Audio(transformed.numpy(), rate=new_sample_rate)"
      ]
    },
    {
      "cell_type": "markdown",
      "metadata": {},
      "source": [
        "We are encoding each word using its index in the list of labels.\n",
        "\n",
        "\n"
      ]
    },
    {
      "cell_type": "code",
      "execution_count": 9,
      "metadata": {
        "collapsed": false
      },
      "outputs": [
        {
          "name": "stdout",
          "output_type": "stream",
          "text": [
            "go --> tensor(0) --> go\n"
          ]
        }
      ],
      "source": [
        "def label_to_index(word):\n",
        "    # Return the position of the word in labels\n",
        "    return torch.tensor(labels.index(word))\n",
        "\n",
        "\n",
        "def index_to_label(index):\n",
        "    # Return the word corresponding to the index in labels\n",
        "    # This is the inverse of label_to_index\n",
        "    return labels[index]\n",
        "\n",
        "\n",
        "word_start = \"go\"\n",
        "index = label_to_index(word_start)\n",
        "word_recovered = index_to_label(index)\n",
        "\n",
        "print(word_start, \"-->\", index, \"-->\", word_recovered)"
      ]
    },
    {
      "cell_type": "markdown",
      "metadata": {},
      "source": [
        "To turn a list of data point made of audio recordings and utterances\n",
        "into two batched tensors for the model, we implement a collate function\n",
        "which is used by the PyTorch DataLoader that allows us to iterate over a\n",
        "dataset by batches. Please see [the\n",
        "documentation](https://pytorch.org/docs/stable/data.html#working-with-collate-fn)_\n",
        "for more information about working with a collate function.\n",
        "\n",
        "In the collate function, we also apply the resampling, and the text\n",
        "encoding.\n",
        "\n",
        "\n"
      ]
    },
    {
      "cell_type": "code",
      "execution_count": 11,
      "metadata": {
        "collapsed": false
      },
      "outputs": [],
      "source": [
        "def pad_sequence(batch):\n",
        "    # Make all tensor in a batch the same length by padding with zeros\n",
        "    batch = [item.t() for item in batch]\n",
        "    batch = torch.nn.utils.rnn.pad_sequence(batch, batch_first=True, padding_value=0.)\n",
        "    return batch.permute(0, 2, 1)\n",
        "\n",
        "\n",
        "def collate_fn(batch):\n",
        "\n",
        "    # A data tuple has the form:\n",
        "    # waveform, sample_rate, label, speaker_id, utterance_number\n",
        "\n",
        "    tensors, targets = [], []\n",
        "\n",
        "    # Gather in lists, and encode labels as indices\n",
        "    for waveform, _, label, *_ in batch:\n",
        "        tensors += [waveform]\n",
        "        targets += [label_to_index(label)]\n",
        "\n",
        "    # Group the list of tensors into a batched tensor\n",
        "    tensors = pad_sequence(tensors)\n",
        "    targets = torch.stack(targets)\n",
        "\n",
        "    return tensors, targets\n",
        "\n",
        "\n",
        "batch_size = 256\n",
        "\n",
        "if device == \"cuda\":\n",
        "    num_workers = 1\n",
        "    pin_memory = True\n",
        "else:\n",
        "    num_workers = 0\n",
        "    pin_memory = False\n",
        "\n",
        "train_loader = torch.utils.data.DataLoader(\n",
        "    train_set,\n",
        "    batch_size=batch_size,\n",
        "    shuffle=True,\n",
        "    collate_fn=collate_fn,\n",
        "    num_workers=num_workers,\n",
        "    pin_memory=pin_memory,\n",
        ")\n",
        "test_loader = torch.utils.data.DataLoader(\n",
        "    test_set,\n",
        "    batch_size=batch_size,\n",
        "    shuffle=False,\n",
        "    drop_last=False,\n",
        "    collate_fn=collate_fn,\n",
        "    num_workers=num_workers,\n",
        "    pin_memory=pin_memory,\n",
        ")"
      ]
    },
    {
      "cell_type": "markdown",
      "metadata": {},
      "source": [
        "## Define the Network\n",
        "\n",
        "For this tutorial we will use a convolutional neural network to process\n",
        "the raw audio data. Usually more advanced transforms are applied to the\n",
        "audio data, however CNNs can be used to accurately process the raw data.\n",
        "The specific architecture is modeled after the M5 network architecture\n",
        "described in [this paper](https://arxiv.org/pdf/1610.00087.pdf)_. An\n",
        "important aspect of models processing raw audio data is the receptive\n",
        "field of their first layer’s filters. Our model’s first filter is length\n",
        "80 so when processing audio sampled at 8kHz the receptive field is\n",
        "around 10ms (and at 4kHz, around 20 ms). This size is similar to speech\n",
        "processing applications that often use receptive fields ranging from\n",
        "20ms to 40ms.\n",
        "\n",
        "\n"
      ]
    },
    {
      "cell_type": "code",
      "execution_count": 12,
      "metadata": {
        "collapsed": false
      },
      "outputs": [
        {
          "name": "stdout",
          "output_type": "stream",
          "text": [
            "M5(\n",
            "  (conv1): Conv1d(1, 32, kernel_size=(80,), stride=(16,))\n",
            "  (bn1): BatchNorm1d(32, eps=1e-05, momentum=0.1, affine=True, track_running_stats=True)\n",
            "  (pool1): MaxPool1d(kernel_size=4, stride=4, padding=0, dilation=1, ceil_mode=False)\n",
            "  (conv2): Conv1d(32, 32, kernel_size=(3,), stride=(1,))\n",
            "  (bn2): BatchNorm1d(32, eps=1e-05, momentum=0.1, affine=True, track_running_stats=True)\n",
            "  (pool2): MaxPool1d(kernel_size=4, stride=4, padding=0, dilation=1, ceil_mode=False)\n",
            "  (conv3): Conv1d(32, 64, kernel_size=(3,), stride=(1,))\n",
            "  (bn3): BatchNorm1d(64, eps=1e-05, momentum=0.1, affine=True, track_running_stats=True)\n",
            "  (pool3): MaxPool1d(kernel_size=4, stride=4, padding=0, dilation=1, ceil_mode=False)\n",
            "  (conv4): Conv1d(64, 64, kernel_size=(3,), stride=(1,))\n",
            "  (bn4): BatchNorm1d(64, eps=1e-05, momentum=0.1, affine=True, track_running_stats=True)\n",
            "  (pool4): MaxPool1d(kernel_size=4, stride=4, padding=0, dilation=1, ceil_mode=False)\n",
            "  (fc1): Linear(in_features=64, out_features=4, bias=True)\n",
            ")\n",
            "Number of parameters: 24900\n"
          ]
        }
      ],
      "source": [
        "class M5(nn.Module):\n",
        "    def __init__(self, n_input=1, n_output=35, stride=16, n_channel=32):\n",
        "        super().__init__()\n",
        "        self.conv1 = nn.Conv1d(n_input, n_channel, kernel_size=80, stride=stride)\n",
        "        self.bn1 = nn.BatchNorm1d(n_channel)\n",
        "        self.pool1 = nn.MaxPool1d(4)\n",
        "        self.conv2 = nn.Conv1d(n_channel, n_channel, kernel_size=3)\n",
        "        self.bn2 = nn.BatchNorm1d(n_channel)\n",
        "        self.pool2 = nn.MaxPool1d(4)\n",
        "        self.conv3 = nn.Conv1d(n_channel, 2 * n_channel, kernel_size=3)\n",
        "        self.bn3 = nn.BatchNorm1d(2 * n_channel)\n",
        "        self.pool3 = nn.MaxPool1d(4)\n",
        "        self.conv4 = nn.Conv1d(2 * n_channel, 2 * n_channel, kernel_size=3)\n",
        "        self.bn4 = nn.BatchNorm1d(2 * n_channel)\n",
        "        self.pool4 = nn.MaxPool1d(4)\n",
        "        self.fc1 = nn.Linear(2 * n_channel, n_output)\n",
        "\n",
        "    def forward(self, x):\n",
        "        x = self.conv1(x)\n",
        "        x = F.relu(self.bn1(x))\n",
        "        x = self.pool1(x)\n",
        "        x = self.conv2(x)\n",
        "        x = F.relu(self.bn2(x))\n",
        "        x = self.pool2(x)\n",
        "        x = self.conv3(x)\n",
        "        x = F.relu(self.bn3(x))\n",
        "        x = self.pool3(x)\n",
        "        x = self.conv4(x)\n",
        "        x = F.relu(self.bn4(x))\n",
        "        x = self.pool4(x)\n",
        "        x = F.avg_pool1d(x, x.shape[-1])\n",
        "        x = x.permute(0, 2, 1)\n",
        "        x = self.fc1(x)\n",
        "        return F.log_softmax(x, dim=2)\n",
        "\n",
        "\n",
        "model = M5(n_input=transformed.shape[0], n_output=len(labels))\n",
        "model.to(device)\n",
        "print(model)\n",
        "\n",
        "\n",
        "def count_parameters(model):\n",
        "    return sum(p.numel() for p in model.parameters() if p.requires_grad)\n",
        "\n",
        "\n",
        "n = count_parameters(model)\n",
        "print(\"Number of parameters: %s\" % n)"
      ]
    },
    {
      "cell_type": "markdown",
      "metadata": {},
      "source": [
        "We will use the same optimization technique used in the paper, an Adam\n",
        "optimizer with weight decay set to 0.0001. At first, we will train with\n",
        "a learning rate of 0.01, but we will use a ``scheduler`` to decrease it\n",
        "to 0.001 during training after 20 epochs.\n",
        "\n",
        "\n"
      ]
    },
    {
      "cell_type": "code",
      "execution_count": 14,
      "metadata": {
        "collapsed": false
      },
      "outputs": [],
      "source": [
        "optimizer = optim.Adam(model.parameters(), lr=0.01, weight_decay=0.0001)\n",
        "scheduler = optim.lr_scheduler.StepLR(optimizer, step_size=20, gamma=0.1)  # reduce the learning after 20 epochs by a factor of 10"
      ]
    },
    {
      "cell_type": "markdown",
      "metadata": {},
      "source": [
        "## Training and Testing the Network\n",
        "\n",
        "Now let’s define a training function that will feed our training data\n",
        "into the model and perform the backward pass and optimization steps. For\n",
        "training, the loss we will use is the negative log-likelihood. The\n",
        "network will then be tested after each epoch to see how the accuracy\n",
        "varies during the training.\n",
        "\n",
        "\n"
      ]
    },
    {
      "cell_type": "code",
      "execution_count": 13,
      "metadata": {
        "collapsed": false
      },
      "outputs": [],
      "source": [
        "def train(model, epoch, log_interval):\n",
        "    model.train()\n",
        "    for batch_idx, (data, target) in enumerate(train_loader):\n",
        "\n",
        "        data = data.to(device)\n",
        "        target = target.to(device)\n",
        "\n",
        "        # apply transform and model on whole batch directly on device\n",
        "        data = transform(data)\n",
        "        output = model(data)\n",
        "\n",
        "        # negative log-likelihood for a tensor of size (batch x 1 x n_output)\n",
        "        loss = F.nll_loss(output.squeeze(), target)\n",
        "\n",
        "        optimizer.zero_grad()\n",
        "        loss.backward()\n",
        "        optimizer.step()\n",
        "\n",
        "        # print training stats\n",
        "        if batch_idx % log_interval == 0:\n",
        "            print(f\"Train Epoch: {epoch} [{batch_idx * len(data)}/{len(train_loader.dataset)} ({100. * batch_idx / len(train_loader):.0f}%)]\\tLoss: {loss.item():.6f}\")\n",
        "\n",
        "        # update progress bar\n",
        "        pbar.update(pbar_update) \n",
        "        # record loss\n",
        "        losses.append(loss.item())"
      ]
    },
    {
      "cell_type": "markdown",
      "metadata": {},
      "source": [
        "Now that we have a training function, we need to make one for testing\n",
        "the networks accuracy. We will set the model to ``eval()`` mode and then\n",
        "run inference on the test dataset. Calling ``eval()`` sets the training\n",
        "variable in all modules in the network to false. Certain layers like\n",
        "batch normalization and dropout layers behave differently during\n",
        "training so this step is crucial for getting correct results.\n",
        "\n",
        "\n"
      ]
    },
    {
      "cell_type": "code",
      "execution_count": 15,
      "metadata": {
        "collapsed": false
      },
      "outputs": [],
      "source": [
        "def number_of_correct(pred, target):\n",
        "    # count number of correct predictions\n",
        "    return pred.squeeze().eq(target).sum().item()\n",
        "\n",
        "\n",
        "def get_likely_index(tensor):\n",
        "    # find most likely label index for each element in the batch\n",
        "    return tensor.argmax(dim=-1)\n",
        "\n",
        "\n",
        "def test(model, epoch):\n",
        "    model.eval()\n",
        "    correct = 0\n",
        "    for data, target in test_loader:\n",
        "\n",
        "        data = data.to(device)\n",
        "        target = target.to(device)\n",
        "\n",
        "        # apply transform and model on whole batch directly on device\n",
        "        data = transform(data)\n",
        "        output = model(data)\n",
        "\n",
        "        pred = get_likely_index(output)\n",
        "        correct += number_of_correct(pred, target)\n",
        "\n",
        "        # update progress bar\n",
        "        pbar.update(pbar_update)\n",
        "\n",
        "    print(f\"\\nTest Epoch: {epoch}\\tAccuracy: {correct}/{len(test_loader.dataset)} ({100. * correct / len(test_loader.dataset):.0f}%)\\n\")"
      ]
    },
    {
      "cell_type": "markdown",
      "metadata": {},
      "source": [
        "Finally, we can train and test the network. We will train the network\n",
        "for ten epochs then reduce the learn rate and train for ten more epochs.\n",
        "The network will be tested after each epoch to see how the accuracy\n",
        "varies during the training.\n",
        "\n",
        "\n"
      ]
    },
    {
      "cell_type": "code",
      "execution_count": 16,
      "metadata": {
        "collapsed": false
      },
      "outputs": [
        {
          "name": "stderr",
          "output_type": "stream",
          "text": [
            "  3%|▎         | 0.05714285714285714/2 [00:06<03:09, 97.46s/it] "
          ]
        },
        {
          "name": "stdout",
          "output_type": "stream",
          "text": [
            "Train Epoch: 1 [0/7437 (0%)]\tLoss: 1.430667\n"
          ]
        },
        {
          "name": "stderr",
          "output_type": "stream",
          "text": [
            " 33%|███▎      | 0.6571428571428573/2 [00:08<00:04,  3.39s/it] "
          ]
        },
        {
          "name": "stdout",
          "output_type": "stream",
          "text": [
            "Train Epoch: 1 [5120/7437 (67%)]\tLoss: 0.865289\n"
          ]
        },
        {
          "name": "stderr",
          "output_type": "stream",
          "text": [
            " 53%|█████▎    | 1.0571428571428572/2 [00:10<00:03,  3.59s/it]"
          ]
        },
        {
          "name": "stdout",
          "output_type": "stream",
          "text": [
            "\n",
            "Test Epoch: 1\tAccuracy: 471/1026 (46%)\n",
            "\n",
            "Train Epoch: 2 [0/7437 (0%)]\tLoss: 0.704262\n"
          ]
        },
        {
          "name": "stderr",
          "output_type": "stream",
          "text": [
            " 81%|████████▏ | 1.6285714285714266/2 [00:12<00:01,  3.34s/it]"
          ]
        },
        {
          "name": "stdout",
          "output_type": "stream",
          "text": [
            "Train Epoch: 2 [5120/7437 (67%)]\tLoss: 0.479161\n"
          ]
        },
        {
          "name": "stderr",
          "output_type": "stream",
          "text": [
            "100%|█████████▉| 1.9999999999999967/2 [00:13<00:00,  6.58s/it]"
          ]
        },
        {
          "name": "stdout",
          "output_type": "stream",
          "text": [
            "\n",
            "Test Epoch: 2\tAccuracy: 823/1026 (80%)\n",
            "\n"
          ]
        },
        {
          "name": "stderr",
          "output_type": "stream",
          "text": [
            "\n"
          ]
        }
      ],
      "source": [
        "log_interval = 20\n",
        "n_epoch = 2\n",
        "\n",
        "pbar_update = 1 / (len(train_loader) + len(test_loader))\n",
        "losses = []\n",
        "\n",
        "# The transform needs to live on the same device as the model and the data.\n",
        "transform = transform.to(device)\n",
        "with tqdm(total=n_epoch) as pbar:\n",
        "    for epoch in range(1, n_epoch + 1):\n",
        "        train(model, epoch, log_interval)\n",
        "        test(model, epoch)\n",
        "        scheduler.step()\n",
        "\n",
        "# Let's plot the training loss versus the number of iteration.\n",
        "# plt.plot(losses);\n",
        "# plt.title(\"training loss\");"
      ]
    },
    {
      "cell_type": "markdown",
      "metadata": {},
      "source": [
        "The network should be more than 65% accurate on the test set after 2\n",
        "epochs, and 85% after 21 epochs. Let’s look at the last words in the\n",
        "train set, and see how the model did on it.\n",
        "\n",
        "\n"
      ]
    },
    {
      "cell_type": "code",
      "execution_count": 17,
      "metadata": {
        "collapsed": false
      },
      "outputs": [
        {
          "name": "stdout",
          "output_type": "stream",
          "text": [
            "Expected: stop. Predicted: stop.\n"
          ]
        }
      ],
      "source": [
        "def predict(tensor):\n",
        "    # Use the model to predict the label of the waveform\n",
        "    tensor = tensor.to(device)\n",
        "    tensor = transform(tensor)\n",
        "    tensor = model(tensor.unsqueeze(0))\n",
        "    tensor = get_likely_index(tensor)\n",
        "    tensor = index_to_label(tensor.squeeze())\n",
        "    return tensor\n",
        "\n",
        "\n",
        "waveform, sample_rate, utterance, *_ = train_set[-1]\n",
        "ipd.Audio(waveform.numpy(), rate=sample_rate)\n",
        "\n",
        "print(f\"Expected: {utterance}. Predicted: {predict(waveform)}.\")"
      ]
    },
    {
      "cell_type": "markdown",
      "metadata": {},
      "source": [
        "Let’s find an example that isn’t classified correctly, if there is one.\n",
        "\n",
        "\n"
      ]
    },
    {
      "cell_type": "code",
      "execution_count": 18,
      "metadata": {
        "collapsed": false
      },
      "outputs": [
        {
          "name": "stdout",
          "output_type": "stream",
          "text": [
            "Data point #0. Expected: go. Predicted: right.\n"
          ]
        }
      ],
      "source": [
        "for i, (waveform, sample_rate, utterance, *_) in enumerate(test_set):\n",
        "    output = predict(waveform)\n",
        "    if output != utterance:\n",
        "        ipd.Audio(waveform.numpy(), rate=sample_rate)\n",
        "        print(f\"Data point #{i}. Expected: {utterance}. Predicted: {output}.\")\n",
        "        break\n",
        "else:\n",
        "    print(\"All examples in this dataset were correctly classified!\")\n",
        "    print(\"In this case, let's just look at the last data point\")\n",
        "    ipd.Audio(waveform.numpy(), rate=sample_rate)\n",
        "    print(f\"Data point #{i}. Expected: {utterance}. Predicted: {output}.\")"
      ]
    },
    {
      "cell_type": "markdown",
      "metadata": {},
      "source": [
        "Feel free to try with one of your own recordings of one of the labels!\n",
        "For example, using Colab, say “Go” while executing the cell below. This\n",
        "will record one second of audio and try to classify it.\n",
        "\n",
        "\n"
      ]
    },
    {
      "cell_type": "code",
      "execution_count": null,
      "metadata": {
        "collapsed": false
      },
      "outputs": [],
      "source": [
        "#toto by sa dalo prerobit na bonusovu ulohu\n",
        "# def record(seconds=1):\n",
        "\n",
        "#     from google.colab import output as colab_output\n",
        "#     from base64 import b64decode\n",
        "#     from io import BytesIO\n",
        "#     from pydub import AudioSegment\n",
        "\n",
        "#     RECORD = (\n",
        "#         b\"const sleep  = time => new Promise(resolve => setTimeout(resolve, time))\\n\"\n",
        "#         b\"const b2text = blob => new Promise(resolve => {\\n\"\n",
        "#         b\"  const reader = new FileReader()\\n\"\n",
        "#         b\"  reader.onloadend = e => resolve(e.srcElement.result)\\n\"\n",
        "#         b\"  reader.readAsDataURL(blob)\\n\"\n",
        "#         b\"})\\n\"\n",
        "#         b\"var record = time => new Promise(async resolve => {\\n\"\n",
        "#         b\"  stream = await navigator.mediaDevices.getUserMedia({ audio: true })\\n\"\n",
        "#         b\"  recorder = new MediaRecorder(stream)\\n\"\n",
        "#         b\"  chunks = []\\n\"\n",
        "#         b\"  recorder.ondataavailable = e => chunks.push(e.data)\\n\"\n",
        "#         b\"  recorder.start()\\n\"\n",
        "#         b\"  await sleep(time)\\n\"\n",
        "#         b\"  recorder.onstop = async ()=>{\\n\"\n",
        "#         b\"    blob = new Blob(chunks)\\n\"\n",
        "#         b\"    text = await b2text(blob)\\n\"\n",
        "#         b\"    resolve(text)\\n\"\n",
        "#         b\"  }\\n\"\n",
        "#         b\"  recorder.stop()\\n\"\n",
        "#         b\"})\"\n",
        "#     )\n",
        "#     RECORD = RECORD.decode(\"ascii\")\n",
        "\n",
        "#     print(f\"Recording started for {seconds} seconds.\")\n",
        "#     display(ipd.Javascript(RECORD))\n",
        "#     s = colab_output.eval_js(\"record(%d)\" % (seconds * 1000))\n",
        "#     print(\"Recording ended.\")\n",
        "#     b = b64decode(s.split(\",\")[1])\n",
        "\n",
        "#     fileformat = \"wav\"\n",
        "#     filename = f\"_audio.{fileformat}\"\n",
        "#     AudioSegment.from_file(BytesIO(b)).export(filename, format=fileformat)\n",
        "#     return torchaudio.load(filename)\n",
        "\n",
        "\n",
        "# # Detect whether notebook runs in google colab\n",
        "# if \"google.colab\" in sys.modules:\n",
        "#     waveform, sample_rate = record()\n",
        "#     print(f\"Predicted: {predict(waveform)}.\")\n",
        "#     ipd.Audio(waveform.numpy(), rate=sample_rate)"
      ]
    },
    {
      "cell_type": "markdown",
      "metadata": {},
      "source": [
        "## Conclusion\n",
        "\n",
        "In this tutorial, we used torchaudio to load a dataset and resample the\n",
        "signal. We have then defined a neural network that we trained to\n",
        "recognize a given command. There are also other data preprocessing\n",
        "methods, such as finding the mel frequency cepstral coefficients (MFCC),\n",
        "that can reduce the size of the dataset. This transform is also\n",
        "available in torchaudio as ``torchaudio.transforms.MFCC``.\n",
        "\n",
        "\n"
      ]
    }
  ],
  "metadata": {
    "kernelspec": {
      "display_name": "Python 3",
      "language": "python",
      "name": "python3"
    },
    "language_info": {
      "codemirror_mode": {
        "name": "ipython",
        "version": 3
      },
      "file_extension": ".py",
      "mimetype": "text/x-python",
      "name": "python",
      "nbconvert_exporter": "python",
      "pygments_lexer": "ipython3",
      "version": "3.10.8"
    }
  },
  "nbformat": 4,
  "nbformat_minor": 0
}
